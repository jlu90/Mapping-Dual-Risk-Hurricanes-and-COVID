{
 "cells": [
  {
   "cell_type": "markdown",
   "metadata": {},
   "source": [
    "# Data Cleaning - Historic Hurricane Data"
   ]
  },
  {
   "cell_type": "markdown",
   "metadata": {},
   "source": [
    "## Imports"
   ]
  },
  {
   "cell_type": "code",
   "execution_count": 1,
   "metadata": {},
   "outputs": [],
   "source": [
    "import pandas as pd\n",
    "import matplotlib.pyplot as plt\n",
    "import seaborn as sns\n",
    "import time\n",
    "import geopandas as gpd\n",
    "\n",
    "pd.set_option(\"display.max_columns\", None)"
   ]
  },
  {
   "cell_type": "markdown",
   "metadata": {},
   "source": [
    "## Read-In Data\n",
    "Source: [IBTrACS Version 4 from the National Centers for Environmental Information](https://www.ncdc.noaa.gov/ibtracs/)\n",
    "\n",
    "Data on tropical storm systems that have occurred in the North Atlantic Ocean was retrieved from the International Best Track Archive for Climate Stewardship (IBTrACS) on August 2, 2020. The IBTrACS data serve to provide tracking information for all tropical cyclones and storms in order to aid understanding of the distribution, frequency, and intensity of tropical storm systems. "
   ]
  },
  {
   "cell_type": "code",
   "execution_count": 2,
   "metadata": {},
   "outputs": [
    {
     "name": "stderr",
     "output_type": "stream",
     "text": [
      "/Users/jocelynlutes/anaconda3/lib/python3.7/site-packages/IPython/core/interactiveshell.py:3063: DtypeWarning: Columns (1,3,8,9,10,11,14,15,19,20,21,23,24,26,27,28,29,30,31,32,33,34,35,36,37,38,39,40,41,42,43,45,46,48,49,51,52,54,55,57,58,59,60,62,63,64,65,67,68,70,71,72,73,75,76,79,80,81,82,83,84,85,86,87,88,89,90,91,92,93,95,96,99,100,101,102,103,104,105,106,107,108,109,110,111,112,113,114,117,118,120,121,122,123,124,125,126,127,128,129,130,131,132,134,135,136,137,138,139,140,141,142,144,145,146,147,148,149,150,151,152,153,154,155,156,157,158,159,160,161,162) have mixed types.Specify dtype option on import or set low_memory=False.\n",
      "  interactivity=interactivity, compiler=compiler, result=result)\n"
     ]
    }
   ],
   "source": [
    "atlantic = pd.read_csv('../data/hurricanes_east_coast.csv', na_values = ' ');"
   ]
  },
  {
   "cell_type": "markdown",
   "metadata": {},
   "source": [
    "### Selection of Relevant Columns"
   ]
  },
  {
   "cell_type": "code",
   "execution_count": 3,
   "metadata": {},
   "outputs": [],
   "source": [
    "atlantic = atlantic[['SID','SEASON', 'NUMBER', 'NAME','ISO_TIME','NATURE','LAT','LON','WMO_WIND','WMO_PRES', 'WMO_AGENCY', 'DIST2LAND', 'LANDFALL', 'USA_LAT', 'USA_LON', 'USA_RECORD', 'USA_STATUS', 'USA_WIND', 'USA_PRES', 'USA_SSHS', 'USA_EYE', 'USA_SEAHGT', 'STORM_SPEED', 'STORM_DIR']]"
   ]
  },
  {
   "cell_type": "markdown",
   "metadata": {},
   "source": [
    "#### Rename Columns"
   ]
  },
  {
   "cell_type": "code",
   "execution_count": 4,
   "metadata": {},
   "outputs": [],
   "source": [
    "atlantic.rename(columns = {\n",
    "    \"SID\" : \"storm_id\",\n",
    "    \"SEASON\" : \"year\",\n",
    "    \"LAT\" : \"latitude\",\n",
    "    \"LON\" : \"longitude\",\n",
    "    \"WMO_WIND\" : \"wmo_wind(knots)\",\n",
    "    \"WMO_PRES\" : \"wmo_pressure(mb)\", # World Meteorological Organization\n",
    "    \"DIST2LAND\" : \"dist2land(km)\",\n",
    "    \"LANDFALL\" : \"landfall(km)\",\n",
    "    \"USA_SSHS\" : \"storm_category\",\n",
    "    \"USA_EYE\" : \"eye_diameter\",\n",
    "    \"USA_SEAHGT\" : \"sea_height(ft)\",\n",
    "    \"STORM_SPEED\" : \"storm_speed(knots)\",\n",
    "    \"STORM_DIR\" : \"storm_direction(degrees)\"\n",
    "    }, inplace = True)\n",
    "atlantic.columns = atlantic.columns.str.lower()\n",
    "atlantic.drop(index = 0, inplace = True)\n",
    "atlantic.reset_index(drop = True, inplace = True)"
   ]
  },
  {
   "cell_type": "markdown",
   "metadata": {},
   "source": [
    "### Selection of Only Storms That Made Landfall"
   ]
  },
  {
   "cell_type": "code",
   "execution_count": 5,
   "metadata": {},
   "outputs": [],
   "source": [
    "atlantic['landfall(km)'] = atlantic['landfall(km)'].map(float)\n",
    "atlantic = atlantic[atlantic['landfall(km)'] == 0]"
   ]
  },
  {
   "cell_type": "code",
   "execution_count": 6,
   "metadata": {},
   "outputs": [
    {
     "data": {
      "text/html": [
       "<div>\n",
       "<style scoped>\n",
       "    .dataframe tbody tr th:only-of-type {\n",
       "        vertical-align: middle;\n",
       "    }\n",
       "\n",
       "    .dataframe tbody tr th {\n",
       "        vertical-align: top;\n",
       "    }\n",
       "\n",
       "    .dataframe thead th {\n",
       "        text-align: right;\n",
       "    }\n",
       "</style>\n",
       "<table border=\"1\" class=\"dataframe\">\n",
       "  <thead>\n",
       "    <tr style=\"text-align: right;\">\n",
       "      <th></th>\n",
       "      <th>storm_id</th>\n",
       "      <th>year</th>\n",
       "      <th>number</th>\n",
       "      <th>name</th>\n",
       "      <th>iso_time</th>\n",
       "      <th>nature</th>\n",
       "      <th>latitude</th>\n",
       "      <th>longitude</th>\n",
       "      <th>wmo_wind(knots)</th>\n",
       "      <th>wmo_pressure(mb)</th>\n",
       "      <th>wmo_agency</th>\n",
       "      <th>dist2land(km)</th>\n",
       "      <th>landfall(km)</th>\n",
       "      <th>usa_lat</th>\n",
       "      <th>usa_lon</th>\n",
       "      <th>usa_record</th>\n",
       "      <th>usa_status</th>\n",
       "      <th>usa_wind</th>\n",
       "      <th>usa_pres</th>\n",
       "      <th>storm_category</th>\n",
       "      <th>eye_diameter</th>\n",
       "      <th>sea_height(ft)</th>\n",
       "      <th>storm_speed(knots)</th>\n",
       "      <th>storm_direction(degrees)</th>\n",
       "    </tr>\n",
       "  </thead>\n",
       "  <tbody>\n",
       "    <tr>\n",
       "      <th>19</th>\n",
       "      <td>1851175N26270</td>\n",
       "      <td>1851</td>\n",
       "      <td>5.0</td>\n",
       "      <td>NOT_NAMED</td>\n",
       "      <td>1851-06-25 21:00:00</td>\n",
       "      <td>TS</td>\n",
       "      <td>28.1333</td>\n",
       "      <td>-96.5667</td>\n",
       "      <td>80</td>\n",
       "      <td>NaN</td>\n",
       "      <td>hurdat_atl</td>\n",
       "      <td>22</td>\n",
       "      <td>0.0</td>\n",
       "      <td>28.2000</td>\n",
       "      <td>-96.8000</td>\n",
       "      <td>L</td>\n",
       "      <td>HU</td>\n",
       "      <td>80</td>\n",
       "      <td>NaN</td>\n",
       "      <td>1.0</td>\n",
       "      <td>NaN</td>\n",
       "      <td>NaN</td>\n",
       "      <td>5</td>\n",
       "      <td>286</td>\n",
       "    </tr>\n",
       "    <tr>\n",
       "      <th>20</th>\n",
       "      <td>1851175N26270</td>\n",
       "      <td>1851</td>\n",
       "      <td>5.0</td>\n",
       "      <td>NOT_NAMED</td>\n",
       "      <td>1851-06-26 00:00:00</td>\n",
       "      <td>TS</td>\n",
       "      <td>28.1667</td>\n",
       "      <td>-96.8000</td>\n",
       "      <td>70</td>\n",
       "      <td>NaN</td>\n",
       "      <td>hurdat_atl</td>\n",
       "      <td>0</td>\n",
       "      <td>0.0</td>\n",
       "      <td>28.2000</td>\n",
       "      <td>-97.0000</td>\n",
       "      <td>NaN</td>\n",
       "      <td>HU</td>\n",
       "      <td>70</td>\n",
       "      <td>NaN</td>\n",
       "      <td>1.0</td>\n",
       "      <td>NaN</td>\n",
       "      <td>NaN</td>\n",
       "      <td>5</td>\n",
       "      <td>282</td>\n",
       "    </tr>\n",
       "  </tbody>\n",
       "</table>\n",
       "</div>"
      ],
      "text/plain": [
       "         storm_id  year  number       name             iso_time nature  \\\n",
       "19  1851175N26270  1851     5.0  NOT_NAMED  1851-06-25 21:00:00     TS   \n",
       "20  1851175N26270  1851     5.0  NOT_NAMED  1851-06-26 00:00:00     TS   \n",
       "\n",
       "   latitude longitude wmo_wind(knots) wmo_pressure(mb)  wmo_agency  \\\n",
       "19  28.1333  -96.5667              80              NaN  hurdat_atl   \n",
       "20  28.1667  -96.8000              70              NaN  hurdat_atl   \n",
       "\n",
       "   dist2land(km)  landfall(km)  usa_lat   usa_lon usa_record usa_status  \\\n",
       "19            22           0.0  28.2000  -96.8000          L         HU   \n",
       "20             0           0.0  28.2000  -97.0000        NaN         HU   \n",
       "\n",
       "   usa_wind usa_pres  storm_category eye_diameter sea_height(ft)  \\\n",
       "19       80      NaN             1.0          NaN            NaN   \n",
       "20       70      NaN             1.0          NaN            NaN   \n",
       "\n",
       "   storm_speed(knots) storm_direction(degrees)  \n",
       "19                  5                      286  \n",
       "20                  5                      282  "
      ]
     },
     "execution_count": 6,
     "metadata": {},
     "output_type": "execute_result"
    }
   ],
   "source": [
    "atlantic.head(2)"
   ]
  },
  {
   "cell_type": "markdown",
   "metadata": {},
   "source": [
    "#### Export to CSV and Read-In to Easily Convert Data Types"
   ]
  },
  {
   "cell_type": "code",
   "execution_count": 7,
   "metadata": {},
   "outputs": [],
   "source": [
    "atlantic.to_csv('../data/hurricanes_east_coast_landfall.csv', index = False)\n",
    "atlantic = pd.read_csv('../data/hurricanes_east_coast_landfall.csv')"
   ]
  },
  {
   "cell_type": "markdown",
   "metadata": {},
   "source": [
    "## Visualize Current Points"
   ]
  },
  {
   "cell_type": "code",
   "execution_count": 8,
   "metadata": {},
   "outputs": [
    {
     "data": {
      "image/png": "[encoded data removed]",
      "text/plain": [
       "<Figure size 1080x720 with 1 Axes>"
      ]
     },
     "metadata": {
      "needs_background": "light"
     },
     "output_type": "display_data"
    }
   ],
   "source": [
    "plt.figure(figsize= (15,10))\n",
    "plt.scatter(x = atlantic[\"longitude\"],\n",
    "           y = atlantic[\"latitude\"],\n",
    "           s = 0.5);\n",
    "plt.title('Tropical Storms in the North Atlantic (1851-2020)', fontdict = {'fontsize': 18}, pad = 8)\n",
    "plt.xlabel('Longitude', fontdict = {'fontsize':14}, labelpad = 8)\n",
    "plt.ylabel('Latitude', fontdict = {'fontsize':14}, labelpad = 8);"
   ]
  },
  {
   "cell_type": "markdown",
   "metadata": {},
   "source": [
    "## Read-In Shape Files for State and County Labeling"
   ]
  },
  {
   "cell_type": "markdown",
   "metadata": {},
   "source": [
    "### USA - States\n",
    "Source: **ASK URI!**\n",
    "\n",
    "This geopandas data frame will allows us to label the state of each point in our hurricanes data frame."
   ]
  },
  {
   "cell_type": "code",
   "execution_count": 9,
   "metadata": {},
   "outputs": [
    {
     "data": {
      "text/html": [
       "<div>\n",
       "<style scoped>\n",
       "    .dataframe tbody tr th:only-of-type {\n",
       "        vertical-align: middle;\n",
       "    }\n",
       "\n",
       "    .dataframe tbody tr th {\n",
       "        vertical-align: top;\n",
       "    }\n",
       "\n",
       "    .dataframe thead th {\n",
       "        text-align: right;\n",
       "    }\n",
       "</style>\n",
       "<table border=\"1\" class=\"dataframe\">\n",
       "  <thead>\n",
       "    <tr style=\"text-align: right;\">\n",
       "      <th></th>\n",
       "      <th>STATE_NAME</th>\n",
       "      <th>DRAWSEQ</th>\n",
       "      <th>STATE_FIPS</th>\n",
       "      <th>SUB_REGION</th>\n",
       "      <th>STATE_ABBR</th>\n",
       "      <th>geometry</th>\n",
       "    </tr>\n",
       "  </thead>\n",
       "  <tbody>\n",
       "    <tr>\n",
       "      <th>0</th>\n",
       "      <td>Hawaii</td>\n",
       "      <td>1</td>\n",
       "      <td>15</td>\n",
       "      <td>Pacific</td>\n",
       "      <td>HI</td>\n",
       "      <td>MULTIPOLYGON (((-160.07380 22.00418, -160.0497...</td>\n",
       "    </tr>\n",
       "    <tr>\n",
       "      <th>1</th>\n",
       "      <td>Washington</td>\n",
       "      <td>2</td>\n",
       "      <td>53</td>\n",
       "      <td>Pacific</td>\n",
       "      <td>WA</td>\n",
       "      <td>MULTIPOLYGON (((-122.40202 48.22522, -122.4628...</td>\n",
       "    </tr>\n",
       "    <tr>\n",
       "      <th>2</th>\n",
       "      <td>Montana</td>\n",
       "      <td>3</td>\n",
       "      <td>30</td>\n",
       "      <td>Mountain</td>\n",
       "      <td>MT</td>\n",
       "      <td>POLYGON ((-111.47543 44.70216, -111.48080 44.6...</td>\n",
       "    </tr>\n",
       "    <tr>\n",
       "      <th>3</th>\n",
       "      <td>Maine</td>\n",
       "      <td>4</td>\n",
       "      <td>23</td>\n",
       "      <td>New England</td>\n",
       "      <td>ME</td>\n",
       "      <td>MULTIPOLYGON (((-69.77728 44.07415, -69.85993 ...</td>\n",
       "    </tr>\n",
       "    <tr>\n",
       "      <th>4</th>\n",
       "      <td>North Dakota</td>\n",
       "      <td>5</td>\n",
       "      <td>38</td>\n",
       "      <td>West North Central</td>\n",
       "      <td>ND</td>\n",
       "      <td>POLYGON ((-98.73044 45.93827, -99.00683 45.939...</td>\n",
       "    </tr>\n",
       "  </tbody>\n",
       "</table>\n",
       "</div>"
      ],
      "text/plain": [
       "     STATE_NAME  DRAWSEQ STATE_FIPS          SUB_REGION STATE_ABBR  \\\n",
       "0        Hawaii        1         15             Pacific         HI   \n",
       "1    Washington        2         53             Pacific         WA   \n",
       "2       Montana        3         30            Mountain         MT   \n",
       "3         Maine        4         23         New England         ME   \n",
       "4  North Dakota        5         38  West North Central         ND   \n",
       "\n",
       "                                            geometry  \n",
       "0  MULTIPOLYGON (((-160.07380 22.00418, -160.0497...  \n",
       "1  MULTIPOLYGON (((-122.40202 48.22522, -122.4628...  \n",
       "2  POLYGON ((-111.47543 44.70216, -111.48080 44.6...  \n",
       "3  MULTIPOLYGON (((-69.77728 44.07415, -69.85993 ...  \n",
       "4  POLYGON ((-98.73044 45.93827, -99.00683 45.939...  "
      ]
     },
     "execution_count": 9,
     "metadata": {},
     "output_type": "execute_result"
    }
   ],
   "source": [
    "usa_states = gpd.read_file('../maps/states_21basic/states.shp')\n",
    "usa_states.head()"
   ]
  },
  {
   "cell_type": "markdown",
   "metadata": {},
   "source": [
    "### USA - Counties\n",
    "Source: [United States Census Bureau](https://www.census.gov/geographies/mapping-files/time-series/geo/carto-boundary-file.html)\n",
    "\n",
    "This geopandas data frame will allow us to label the county of each point in our hurricanes data frame."
   ]
  },
  {
   "cell_type": "code",
   "execution_count": 10,
   "metadata": {},
   "outputs": [
    {
     "data": {
      "text/html": [
       "<div>\n",
       "<style scoped>\n",
       "    .dataframe tbody tr th:only-of-type {\n",
       "        vertical-align: middle;\n",
       "    }\n",
       "\n",
       "    .dataframe tbody tr th {\n",
       "        vertical-align: top;\n",
       "    }\n",
       "\n",
       "    .dataframe thead th {\n",
       "        text-align: right;\n",
       "    }\n",
       "</style>\n",
       "<table border=\"1\" class=\"dataframe\">\n",
       "  <thead>\n",
       "    <tr style=\"text-align: right;\">\n",
       "      <th></th>\n",
       "      <th>STATEFP</th>\n",
       "      <th>COUNTYFP</th>\n",
       "      <th>COUNTYNS</th>\n",
       "      <th>AFFGEOID</th>\n",
       "      <th>GEOID</th>\n",
       "      <th>NAME</th>\n",
       "      <th>LSAD</th>\n",
       "      <th>ALAND</th>\n",
       "      <th>AWATER</th>\n",
       "      <th>geometry</th>\n",
       "    </tr>\n",
       "  </thead>\n",
       "  <tbody>\n",
       "    <tr>\n",
       "      <th>0</th>\n",
       "      <td>37</td>\n",
       "      <td>017</td>\n",
       "      <td>01026336</td>\n",
       "      <td>0500000US37017</td>\n",
       "      <td>37017</td>\n",
       "      <td>Bladen</td>\n",
       "      <td>06</td>\n",
       "      <td>2265887723</td>\n",
       "      <td>33010866</td>\n",
       "      <td>POLYGON ((-78.90200 34.83527, -78.79960 34.850...</td>\n",
       "    </tr>\n",
       "    <tr>\n",
       "      <th>1</th>\n",
       "      <td>37</td>\n",
       "      <td>167</td>\n",
       "      <td>01025844</td>\n",
       "      <td>0500000US37167</td>\n",
       "      <td>37167</td>\n",
       "      <td>Stanly</td>\n",
       "      <td>06</td>\n",
       "      <td>1023370459</td>\n",
       "      <td>25242751</td>\n",
       "      <td>POLYGON ((-80.49737 35.20210, -80.29542 35.502...</td>\n",
       "    </tr>\n",
       "    <tr>\n",
       "      <th>2</th>\n",
       "      <td>39</td>\n",
       "      <td>153</td>\n",
       "      <td>01074088</td>\n",
       "      <td>0500000US39153</td>\n",
       "      <td>39153</td>\n",
       "      <td>Summit</td>\n",
       "      <td>06</td>\n",
       "      <td>1069181981</td>\n",
       "      <td>18958267</td>\n",
       "      <td>POLYGON ((-81.68699 41.13596, -81.68495 41.277...</td>\n",
       "    </tr>\n",
       "    <tr>\n",
       "      <th>3</th>\n",
       "      <td>42</td>\n",
       "      <td>113</td>\n",
       "      <td>01213687</td>\n",
       "      <td>0500000US42113</td>\n",
       "      <td>42113</td>\n",
       "      <td>Sullivan</td>\n",
       "      <td>06</td>\n",
       "      <td>1165338428</td>\n",
       "      <td>6617028</td>\n",
       "      <td>POLYGON ((-76.81373 41.59003, -76.22014 41.541...</td>\n",
       "    </tr>\n",
       "    <tr>\n",
       "      <th>4</th>\n",
       "      <td>48</td>\n",
       "      <td>459</td>\n",
       "      <td>01384015</td>\n",
       "      <td>0500000US48459</td>\n",
       "      <td>48459</td>\n",
       "      <td>Upshur</td>\n",
       "      <td>06</td>\n",
       "      <td>1509910100</td>\n",
       "      <td>24878888</td>\n",
       "      <td>POLYGON ((-95.15274 32.66095, -95.15211 32.902...</td>\n",
       "    </tr>\n",
       "  </tbody>\n",
       "</table>\n",
       "</div>"
      ],
      "text/plain": [
       "  STATEFP COUNTYFP  COUNTYNS        AFFGEOID  GEOID      NAME LSAD  \\\n",
       "0      37      017  01026336  0500000US37017  37017    Bladen   06   \n",
       "1      37      167  01025844  0500000US37167  37167    Stanly   06   \n",
       "2      39      153  01074088  0500000US39153  39153    Summit   06   \n",
       "3      42      113  01213687  0500000US42113  42113  Sullivan   06   \n",
       "4      48      459  01384015  0500000US48459  48459    Upshur   06   \n",
       "\n",
       "        ALAND    AWATER                                           geometry  \n",
       "0  2265887723  33010866  POLYGON ((-78.90200 34.83527, -78.79960 34.850...  \n",
       "1  1023370459  25242751  POLYGON ((-80.49737 35.20210, -80.29542 35.502...  \n",
       "2  1069181981  18958267  POLYGON ((-81.68699 41.13596, -81.68495 41.277...  \n",
       "3  1165338428   6617028  POLYGON ((-76.81373 41.59003, -76.22014 41.541...  \n",
       "4  1509910100  24878888  POLYGON ((-95.15274 32.66095, -95.15211 32.902...  "
      ]
     },
     "execution_count": 10,
     "metadata": {},
     "output_type": "execute_result"
    }
   ],
   "source": [
    "usa_counties = gpd.read_file('../maps/cb_2018_us_county_20m/cb_2018_us_county_20m.shp')\n",
    "usa_counties.head()"
   ]
  },
  {
   "cell_type": "markdown",
   "metadata": {},
   "source": [
    "## Identifying Hurricane Rows Within the USA"
   ]
  },
  {
   "cell_type": "markdown",
   "metadata": {},
   "source": [
    "In this step, we will compare the coordinates of each tropical storm in the North Atlantic Hurricanes data frame with the states and counties in the shape files. We will assign a state and county to each storm that made landfall in the United States."
   ]
  },
  {
   "cell_type": "markdown",
   "metadata": {},
   "source": [
    "#### Assign Hurricanes Data Frame to a Geopandas Data Frame"
   ]
  },
  {
   "cell_type": "code",
   "execution_count": 11,
   "metadata": {},
   "outputs": [],
   "source": [
    "geo_df = gpd.GeoDataFrame(atlantic, geometry = gpd.points_from_xy(atlantic['longitude'], atlantic['latitude']))"
   ]
  },
  {
   "cell_type": "code",
   "execution_count": 12,
   "metadata": {},
   "outputs": [
    {
     "data": {
      "text/html": [
       "<div>\n",
       "<style scoped>\n",
       "    .dataframe tbody tr th:only-of-type {\n",
       "        vertical-align: middle;\n",
       "    }\n",
       "\n",
       "    .dataframe tbody tr th {\n",
       "        vertical-align: top;\n",
       "    }\n",
       "\n",
       "    .dataframe thead th {\n",
       "        text-align: right;\n",
       "    }\n",
       "</style>\n",
       "<table border=\"1\" class=\"dataframe\">\n",
       "  <thead>\n",
       "    <tr style=\"text-align: right;\">\n",
       "      <th></th>\n",
       "      <th>storm_id</th>\n",
       "      <th>year</th>\n",
       "      <th>number</th>\n",
       "      <th>name</th>\n",
       "      <th>iso_time</th>\n",
       "      <th>nature</th>\n",
       "      <th>latitude</th>\n",
       "      <th>longitude</th>\n",
       "      <th>wmo_wind(knots)</th>\n",
       "      <th>wmo_pressure(mb)</th>\n",
       "      <th>wmo_agency</th>\n",
       "      <th>dist2land(km)</th>\n",
       "      <th>landfall(km)</th>\n",
       "      <th>usa_lat</th>\n",
       "      <th>usa_lon</th>\n",
       "      <th>usa_record</th>\n",
       "      <th>usa_status</th>\n",
       "      <th>usa_wind</th>\n",
       "      <th>usa_pres</th>\n",
       "      <th>storm_category</th>\n",
       "      <th>eye_diameter</th>\n",
       "      <th>sea_height(ft)</th>\n",
       "      <th>storm_speed(knots)</th>\n",
       "      <th>storm_direction(degrees)</th>\n",
       "      <th>geometry</th>\n",
       "    </tr>\n",
       "  </thead>\n",
       "  <tbody>\n",
       "    <tr>\n",
       "      <th>0</th>\n",
       "      <td>1851175N26270</td>\n",
       "      <td>1851</td>\n",
       "      <td>5.0</td>\n",
       "      <td>NOT_NAMED</td>\n",
       "      <td>1851-06-25 21:00:00</td>\n",
       "      <td>TS</td>\n",
       "      <td>28.1333</td>\n",
       "      <td>-96.5667</td>\n",
       "      <td>80.0</td>\n",
       "      <td>NaN</td>\n",
       "      <td>hurdat_atl</td>\n",
       "      <td>22</td>\n",
       "      <td>0.0</td>\n",
       "      <td>28.2</td>\n",
       "      <td>-96.8</td>\n",
       "      <td>L</td>\n",
       "      <td>HU</td>\n",
       "      <td>80.0</td>\n",
       "      <td>NaN</td>\n",
       "      <td>1.0</td>\n",
       "      <td>NaN</td>\n",
       "      <td>NaN</td>\n",
       "      <td>5.0</td>\n",
       "      <td>286.0</td>\n",
       "      <td>POINT (-96.56670 28.13330)</td>\n",
       "    </tr>\n",
       "  </tbody>\n",
       "</table>\n",
       "</div>"
      ],
      "text/plain": [
       "        storm_id  year  number       name             iso_time nature  \\\n",
       "0  1851175N26270  1851     5.0  NOT_NAMED  1851-06-25 21:00:00     TS   \n",
       "\n",
       "   latitude  longitude  wmo_wind(knots)  wmo_pressure(mb)  wmo_agency  \\\n",
       "0   28.1333   -96.5667             80.0               NaN  hurdat_atl   \n",
       "\n",
       "   dist2land(km)  landfall(km)  usa_lat  usa_lon usa_record usa_status  \\\n",
       "0             22           0.0     28.2    -96.8          L         HU   \n",
       "\n",
       "   usa_wind  usa_pres  storm_category  eye_diameter  sea_height(ft)  \\\n",
       "0      80.0       NaN             1.0           NaN             NaN   \n",
       "\n",
       "   storm_speed(knots)  storm_direction(degrees)                    geometry  \n",
       "0                 5.0                     286.0  POINT (-96.56670 28.13330)  "
      ]
     },
     "execution_count": 12,
     "metadata": {},
     "output_type": "execute_result"
    }
   ],
   "source": [
    "geo_df.head(1)"
   ]
  },
  {
   "cell_type": "markdown",
   "metadata": {},
   "source": [
    "#### Write a Function to Check if a Point from the Hurricanes Data Frame is Within a State and County Boundary\n",
    "We will store the indices of the storm and their states/counties to a dictionary."
   ]
  },
  {
   "cell_type": "code",
   "execution_count": 13,
   "metadata": {},
   "outputs": [],
   "source": [
    "def usa_region_column(df1, df2, col1, new_column = None):\n",
    "    # empty dictionary\n",
    "    location_dict = {}\n",
    "    # iterate through hurricane points\n",
    "    for point_index, point in df1['geometry'].iteritems():\n",
    "        # iterate through our location dataframe\n",
    "        for index, location in df2['geometry'].iteritems():\n",
    "            if point.within(location) == True:\n",
    "                location_dict[point_index] = df2[col1][index]      \n",
    "    return location_dict"
   ]
  },
  {
   "cell_type": "markdown",
   "metadata": {},
   "source": [
    "#### Assign States"
   ]
  },
  {
   "cell_type": "code",
   "execution_count": 14,
   "metadata": {},
   "outputs": [
    {
     "data": {
      "text/plain": [
       "(7155, 26)"
      ]
     },
     "execution_count": 14,
     "metadata": {},
     "output_type": "execute_result"
    }
   ],
   "source": [
    "# Iterate Through data frame\n",
    "hurricane_states = usa_region_column(geo_df, usa_states, 'STATE_NAME')\n",
    "\n",
    "# Only keep indices for storms within the USA\n",
    "indices_to_keep = list(hurricane_states.keys())\n",
    "\n",
    "# Create a new dataframe with points from the USA\n",
    "geo_df_usa = geo_df.loc[indices_to_keep, :]\n",
    "\n",
    "# Create a list of states \n",
    "states_list = list(hurricane_states.values())\n",
    "\n",
    "# Create a 'states' column in the USA data frame\n",
    "geo_df_usa['state'] = states_list\n",
    "\n",
    "# Check shape\n",
    "geo_df_usa.shape"
   ]
  },
  {
   "cell_type": "markdown",
   "metadata": {},
   "source": [
    "#### Assign Counties"
   ]
  },
  {
   "cell_type": "code",
   "execution_count": 15,
   "metadata": {},
   "outputs": [],
   "source": [
    "# Iterate Through data frame\n",
    "hurricane_counties = usa_region_column(geo_df_usa, usa_counties, 'NAME')\n",
    "\n",
    "# Only store indices for storms within the USA\n",
    "indices_to_keep = list(hurricane_counties.keys())\n",
    "\n",
    "# Keep rows with county information\n",
    "geo_df_usa = geo_df_usa.loc[indices_to_keep, :]\n",
    "\n",
    "# Create a list of counties\n",
    "county_list = list(hurricane_counties.values())\n",
    "\n",
    "# Create county column in data frame\n",
    "geo_df_usa['county'] = county_list"
   ]
  },
  {
   "cell_type": "code",
   "execution_count": 16,
   "metadata": {},
   "outputs": [
    {
     "data": {
      "text/plain": [
       "(7145, 27)"
      ]
     },
     "execution_count": 16,
     "metadata": {},
     "output_type": "execute_result"
    }
   ],
   "source": [
    "geo_df_usa.shape"
   ]
  },
  {
   "cell_type": "markdown",
   "metadata": {},
   "source": [
    "## Create Aggregates of Storm Information by County\n",
    "\n",
    "This step will ensure that we can merge aggregate counts of historical hurricane data with current COVID-19 data."
   ]
  },
  {
   "cell_type": "markdown",
   "metadata": {},
   "source": [
    "### Functions"
   ]
  },
  {
   "cell_type": "code",
   "execution_count": 17,
   "metadata": {},
   "outputs": [],
   "source": [
    "states_with_hurricanes_list = list(geo_df_usa['state'].unique())"
   ]
  },
  {
   "cell_type": "code",
   "execution_count": 18,
   "metadata": {},
   "outputs": [],
   "source": [
    "# Get Count of Storms by Category for Counties in 1 State\n",
    "\n",
    "def get_category_count(df, state, column, value):\n",
    "    state_df = df[df['state'] == state].copy()\n",
    "    state_df = state_df.reset_index()\n",
    "    \n",
    "    category_counter = {}\n",
    "    \n",
    "    for i in range(state_df.shape[0]):\n",
    "        if state_df[column][i] == value:\n",
    "            if state_df['county'][i] not in category_counter:\n",
    "                category_counter[state_df['county'][i]] = 1\n",
    "            else:\n",
    "                category_counter[state_df['county'][i]] += 1\n",
    "        else:\n",
    "            if state_df['county'][i] not in category_counter:\n",
    "                category_counter[state_df['county'][i]] = 0\n",
    "            \n",
    "    return category_counter"
   ]
  },
  {
   "cell_type": "code",
   "execution_count": 19,
   "metadata": {},
   "outputs": [],
   "source": [
    "# Create a State Data Frame with Aggregate Info\n",
    "\n",
    "def get_dfs(state, category_dict):\n",
    "    df = pd.DataFrame(category_dict[state].values(), index = category_dict[state].keys())\n",
    "    df['state'] = state\n",
    "    return df"
   ]
  },
  {
   "cell_type": "markdown",
   "metadata": {},
   "source": [
    "### Storm Category (1-5)"
   ]
  },
  {
   "cell_type": "markdown",
   "metadata": {},
   "source": [
    "#### Category 1"
   ]
  },
  {
   "cell_type": "code",
   "execution_count": 20,
   "metadata": {},
   "outputs": [],
   "source": [
    "category_1_dict = {}\n",
    "category_1_df_list = []\n",
    "\n",
    "for state in states_with_hurricanes_list:\n",
    "    category_1_dict[state] = get_category_count(geo_df_usa, state, 'storm_category', 1.0)\n",
    "    category_1_df_list.append(get_dfs(state, category_1_dict))\n",
    "    \n",
    "categories_df = pd.concat(category_1_df_list)\n",
    "categories_df = categories_df.rename(columns = {0:'cat_1_count'})"
   ]
  },
  {
   "cell_type": "code",
   "execution_count": 21,
   "metadata": {},
   "outputs": [],
   "source": [
    "# Reorder Columns\n",
    "categories_df = categories_df[['state', 'cat_1_count']]"
   ]
  },
  {
   "cell_type": "markdown",
   "metadata": {},
   "source": [
    "#### Category 2"
   ]
  },
  {
   "cell_type": "code",
   "execution_count": 22,
   "metadata": {},
   "outputs": [],
   "source": [
    "category_2_dict = {}\n",
    "category_2_df_list = []\n",
    "\n",
    "for state in states_with_hurricanes_list:\n",
    "    category_2_dict[state] = get_category_count(geo_df_usa, state, 'storm_category', 2.0)\n",
    "    category_2_df_list.append(get_dfs(state, category_2_dict))\n",
    "    \n",
    "category_2_df = pd.concat(category_2_df_list)\n",
    "categories_df['cat_2_count'] = category_2_df[0]"
   ]
  },
  {
   "cell_type": "markdown",
   "metadata": {},
   "source": [
    "#### Category 3"
   ]
  },
  {
   "cell_type": "code",
   "execution_count": 23,
   "metadata": {},
   "outputs": [],
   "source": [
    "category_3_dict = {}\n",
    "category_3_df_list = []\n",
    "\n",
    "for state in states_with_hurricanes_list:\n",
    "    category_3_dict[state] = get_category_count(geo_df_usa, state, 'storm_category', 3.0)\n",
    "    category_3_df_list.append(get_dfs(state, category_3_dict))\n",
    "    \n",
    "category_3_df = pd.concat(category_3_df_list)\n",
    "categories_df['cat_3_count'] = category_3_df[0]"
   ]
  },
  {
   "cell_type": "markdown",
   "metadata": {},
   "source": [
    "#### Category 4"
   ]
  },
  {
   "cell_type": "code",
   "execution_count": 24,
   "metadata": {},
   "outputs": [],
   "source": [
    "category_4_dict = {}\n",
    "category_4_df_list = []\n",
    "\n",
    "for state in states_with_hurricanes_list:\n",
    "    category_4_dict[state] = get_category_count(geo_df_usa, state, 'storm_category', 4.0)\n",
    "    category_4_df_list.append(get_dfs(state, category_4_dict))\n",
    "    \n",
    "category_4_df = pd.concat(category_4_df_list)\n",
    "categories_df['cat_4_count'] = category_4_df[0]"
   ]
  },
  {
   "cell_type": "markdown",
   "metadata": {},
   "source": [
    "#### Category 5"
   ]
  },
  {
   "cell_type": "code",
   "execution_count": 25,
   "metadata": {},
   "outputs": [],
   "source": [
    "category_5_dict = {}\n",
    "category_5_df_list = []\n",
    "\n",
    "for state in states_with_hurricanes_list:\n",
    "    category_5_dict[state] = get_category_count(geo_df_usa, state, 'storm_category', 5.0)\n",
    "    category_5_df_list.append(get_dfs(state, category_5_dict))\n",
    "    \n",
    "category_5_df = pd.concat(category_5_df_list)\n",
    "categories_df['cat_5_count'] = category_5_df[0]"
   ]
  },
  {
   "cell_type": "markdown",
   "metadata": {},
   "source": [
    "### Storm Type"
   ]
  },
  {
   "cell_type": "markdown",
   "metadata": {},
   "source": [
    "#### Hurricanes"
   ]
  },
  {
   "cell_type": "code",
   "execution_count": 26,
   "metadata": {},
   "outputs": [],
   "source": [
    "hu_dict = {}\n",
    "hu_df_list = []\n",
    "\n",
    "for state in states_with_hurricanes_list:\n",
    "    hu_dict[state] = get_category_count(geo_df_usa, state, 'usa_status', 'HU')\n",
    "    hu_df_list.append(get_dfs(state, hu_dict))\n",
    "    \n",
    "hu_df = pd.concat(hu_df_list)\n",
    "categories_df['hurricane_count'] = hu_df[0]"
   ]
  },
  {
   "cell_type": "markdown",
   "metadata": {},
   "source": [
    "#### Tropical Storms"
   ]
  },
  {
   "cell_type": "code",
   "execution_count": 27,
   "metadata": {},
   "outputs": [],
   "source": [
    "ts_dict = {}\n",
    "ts_df_list = []\n",
    "\n",
    "for state in states_with_hurricanes_list:\n",
    "    ts_dict[state] = get_category_count(geo_df_usa, state, 'usa_status', 'TS')\n",
    "    ts_df_list.append(get_dfs(state, ts_dict))\n",
    "    \n",
    "ts_df = pd.concat(ts_df_list)\n",
    "categories_df['tropical_storm_count'] = ts_df[0]"
   ]
  },
  {
   "cell_type": "markdown",
   "metadata": {},
   "source": [
    "#### Extratropical System"
   ]
  },
  {
   "cell_type": "code",
   "execution_count": 28,
   "metadata": {},
   "outputs": [],
   "source": [
    "ex_dict = {}\n",
    "ex_df_list = []\n",
    "\n",
    "for state in states_with_hurricanes_list:\n",
    "    ex_dict[state] = get_category_count(geo_df_usa, state, 'usa_status', 'EX')\n",
    "    ex_df_list.append(get_dfs(state, ex_dict))\n",
    "    \n",
    "ex_df = pd.concat(ex_df_list)\n",
    "categories_df['extratropical_system_count'] = ex_df[0]"
   ]
  },
  {
   "cell_type": "markdown",
   "metadata": {},
   "source": [
    "#### Tropical Depression"
   ]
  },
  {
   "cell_type": "code",
   "execution_count": 29,
   "metadata": {},
   "outputs": [],
   "source": [
    "td_dict = {}\n",
    "td_df_list = []\n",
    "\n",
    "for state in states_with_hurricanes_list:\n",
    "    td_dict[state] = get_category_count(geo_df_usa, state, 'usa_status', 'TD')\n",
    "    td_df_list.append(get_dfs(state, td_dict))\n",
    "    \n",
    "td_df = pd.concat(td_df_list)\n",
    "categories_df['tropical_depression_count'] = td_df[0]"
   ]
  },
  {
   "cell_type": "markdown",
   "metadata": {},
   "source": [
    "#### Low Count"
   ]
  },
  {
   "cell_type": "code",
   "execution_count": 30,
   "metadata": {},
   "outputs": [],
   "source": [
    "lo_dict = {}\n",
    "lo_df_list = []\n",
    "\n",
    "for state in states_with_hurricanes_list:\n",
    "    lo_dict[state] = get_category_count(geo_df_usa, state, 'usa_status', 'LO')\n",
    "    lo_df_list.append(get_dfs(state, lo_dict))\n",
    "    \n",
    "lo_df = pd.concat(lo_df_list)\n",
    "categories_df['low_count'] = lo_df[0]"
   ]
  },
  {
   "cell_type": "markdown",
   "metadata": {},
   "source": [
    "#### Subtropical Depression"
   ]
  },
  {
   "cell_type": "code",
   "execution_count": 31,
   "metadata": {},
   "outputs": [],
   "source": [
    "sd_dict = {}\n",
    "sd_df_list = []\n",
    "\n",
    "for state in states_with_hurricanes_list:\n",
    "    sd_dict[state] = get_category_count(geo_df_usa, state, 'usa_status', 'SD')\n",
    "    sd_df_list.append(get_dfs(state, sd_dict))\n",
    "    \n",
    "sd_df = pd.concat(sd_df_list)\n",
    "categories_df['subtropical_depression_count'] = sd_df[0]"
   ]
  },
  {
   "cell_type": "markdown",
   "metadata": {},
   "source": [
    "#### Subtropical Storm Count"
   ]
  },
  {
   "cell_type": "code",
   "execution_count": 32,
   "metadata": {},
   "outputs": [],
   "source": [
    "ss_dict = {}\n",
    "ss_df_list = []\n",
    "\n",
    "for state in states_with_hurricanes_list:\n",
    "    ss_dict[state] = get_category_count(geo_df_usa, state, 'usa_status', 'SS')\n",
    "    ss_df_list.append(get_dfs(state, ss_dict))\n",
    "    \n",
    "ss_df = pd.concat(ss_df_list)\n",
    "categories_df['subtropical_storm_count'] = ss_df[0]"
   ]
  },
  {
   "cell_type": "markdown",
   "metadata": {},
   "source": [
    "#### Dissipating Storms"
   ]
  },
  {
   "cell_type": "code",
   "execution_count": 33,
   "metadata": {},
   "outputs": [],
   "source": [
    "ds_dict = {}\n",
    "ds_df_list = []\n",
    "\n",
    "for state in states_with_hurricanes_list:\n",
    "    ds_dict[state] = get_category_count(geo_df_usa, state, 'usa_status', 'DB')\n",
    "    ds_df_list.append(get_dfs(state, ds_dict))\n",
    "    \n",
    "ds_df = pd.concat(ds_df_list)\n",
    "categories_df['dissipating_storm_count'] = ds_df[0]"
   ]
  },
  {
   "cell_type": "markdown",
   "metadata": {},
   "source": [
    "### Combining All Storm Categories and Types"
   ]
  },
  {
   "cell_type": "code",
   "execution_count": 34,
   "metadata": {},
   "outputs": [
    {
     "data": {
      "text/html": [
       "<div>\n",
       "<style scoped>\n",
       "    .dataframe tbody tr th:only-of-type {\n",
       "        vertical-align: middle;\n",
       "    }\n",
       "\n",
       "    .dataframe tbody tr th {\n",
       "        vertical-align: top;\n",
       "    }\n",
       "\n",
       "    .dataframe thead th {\n",
       "        text-align: right;\n",
       "    }\n",
       "</style>\n",
       "<table border=\"1\" class=\"dataframe\">\n",
       "  <thead>\n",
       "    <tr style=\"text-align: right;\">\n",
       "      <th></th>\n",
       "      <th>index</th>\n",
       "      <th>state</th>\n",
       "      <th>cat_1_count</th>\n",
       "      <th>cat_2_count</th>\n",
       "      <th>cat_3_count</th>\n",
       "      <th>cat_4_count</th>\n",
       "      <th>cat_5_count</th>\n",
       "      <th>hurricane_count</th>\n",
       "      <th>tropical_storm_count</th>\n",
       "      <th>extratropical_system_count</th>\n",
       "      <th>tropical_depression_count</th>\n",
       "      <th>low_count</th>\n",
       "      <th>subtropical_depression_count</th>\n",
       "      <th>subtropical_storm_count</th>\n",
       "      <th>dissipating_storm_count</th>\n",
       "      <th>county</th>\n",
       "    </tr>\n",
       "  </thead>\n",
       "  <tbody>\n",
       "    <tr>\n",
       "      <th>1074</th>\n",
       "      <td>Clark</td>\n",
       "      <td>Arkansas</td>\n",
       "      <td>0</td>\n",
       "      <td>0</td>\n",
       "      <td>0</td>\n",
       "      <td>0</td>\n",
       "      <td>0</td>\n",
       "      <td>0</td>\n",
       "      <td>0</td>\n",
       "      <td>0</td>\n",
       "      <td>4</td>\n",
       "      <td>0</td>\n",
       "      <td>0</td>\n",
       "      <td>0</td>\n",
       "      <td>0</td>\n",
       "      <td>Clark</td>\n",
       "    </tr>\n",
       "    <tr>\n",
       "      <th>1146</th>\n",
       "      <td>Clark</td>\n",
       "      <td>Kentucky</td>\n",
       "      <td>0</td>\n",
       "      <td>0</td>\n",
       "      <td>0</td>\n",
       "      <td>0</td>\n",
       "      <td>0</td>\n",
       "      <td>0</td>\n",
       "      <td>0</td>\n",
       "      <td>0</td>\n",
       "      <td>1</td>\n",
       "      <td>0</td>\n",
       "      <td>0</td>\n",
       "      <td>0</td>\n",
       "      <td>0</td>\n",
       "      <td>Clark</td>\n",
       "    </tr>\n",
       "    <tr>\n",
       "      <th>1250</th>\n",
       "      <td>Clark</td>\n",
       "      <td>Indiana</td>\n",
       "      <td>0</td>\n",
       "      <td>0</td>\n",
       "      <td>0</td>\n",
       "      <td>0</td>\n",
       "      <td>0</td>\n",
       "      <td>0</td>\n",
       "      <td>0</td>\n",
       "      <td>2</td>\n",
       "      <td>0</td>\n",
       "      <td>1</td>\n",
       "      <td>0</td>\n",
       "      <td>0</td>\n",
       "      <td>0</td>\n",
       "      <td>Clark</td>\n",
       "    </tr>\n",
       "  </tbody>\n",
       "</table>\n",
       "</div>"
      ],
      "text/plain": [
       "      index     state  cat_1_count  cat_2_count  cat_3_count  cat_4_count  \\\n",
       "1074  Clark  Arkansas            0            0            0            0   \n",
       "1146  Clark  Kentucky            0            0            0            0   \n",
       "1250  Clark   Indiana            0            0            0            0   \n",
       "\n",
       "      cat_5_count  hurricane_count  tropical_storm_count  \\\n",
       "1074            0                0                     0   \n",
       "1146            0                0                     0   \n",
       "1250            0                0                     0   \n",
       "\n",
       "      extratropical_system_count  tropical_depression_count  low_count  \\\n",
       "1074                           0                          4          0   \n",
       "1146                           0                          1          0   \n",
       "1250                           2                          0          1   \n",
       "\n",
       "      subtropical_depression_count  subtropical_storm_count  \\\n",
       "1074                             0                        0   \n",
       "1146                             0                        0   \n",
       "1250                             0                        0   \n",
       "\n",
       "      dissipating_storm_count county  \n",
       "1074                        0  Clark  \n",
       "1146                        0  Clark  \n",
       "1250                        0  Clark  "
      ]
     },
     "execution_count": 34,
     "metadata": {},
     "output_type": "execute_result"
    }
   ],
   "source": [
    "categories_df['county'] = categories_df.index\n",
    "\n",
    "categories_df = categories_df.reset_index()\n",
    "\n",
    "# Confirm that counties with same name have state preserved\n",
    "categories_df[categories_df['county'] == 'Clark']"
   ]
  },
  {
   "cell_type": "code",
   "execution_count": 35,
   "metadata": {},
   "outputs": [
    {
     "data": {
      "text/plain": [
       "(1536, 16)"
      ]
     },
     "execution_count": 35,
     "metadata": {},
     "output_type": "execute_result"
    }
   ],
   "source": [
    "categories_df.shape"
   ]
  },
  {
   "cell_type": "markdown",
   "metadata": {},
   "source": [
    "## Export Data to CSV"
   ]
  },
  {
   "cell_type": "code",
   "execution_count": 36,
   "metadata": {},
   "outputs": [],
   "source": [
    "#categories_df.to_csv('../data/aggregate_storm_data.csv', index = False)"
   ]
  },
  {
   "cell_type": "code",
   "execution_count": null,
   "metadata": {},
   "outputs": [],
   "source": []
  }
 ],
 "metadata": {
  "kernelspec": {
   "display_name": "Python 3",
   "language": "python",
   "name": "python3"
  },
  "language_info": {
   "codemirror_mode": {
    "name": "ipython",
    "version": 3
   },
   "file_extension": ".py",
   "mimetype": "text/x-python",
   "name": "python",
   "nbconvert_exporter": "python",
   "pygments_lexer": "ipython3",
   "version": "3.7.6"
  }
 },
 "nbformat": 4,
 "nbformat_minor": 4
}
