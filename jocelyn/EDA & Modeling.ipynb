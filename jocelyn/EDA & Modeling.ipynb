{
 "cells": [
  {
   "cell_type": "markdown",
   "metadata": {},
   "source": [
    "## Imports"
   ]
  },
  {
   "cell_type": "code",
   "execution_count": 9,
   "metadata": {},
   "outputs": [],
   "source": [
    "import pandas as pd\n",
    "import numpy as np\n",
    "import matplotlib.pyplot as plt\n",
    "import seaborn as sns\n",
    "import geopandas as gpd"
   ]
  },
  {
   "cell_type": "markdown",
   "metadata": {},
   "source": [
    "## Read-In Data"
   ]
  },
  {
   "cell_type": "markdown",
   "metadata": {},
   "source": [
    "### North Atlantic Hurricane Data for the USA (1851-2020)\n",
    "Source: [IBTrACS Version 4 from the National Centers for Environmental Information](https://www.ncdc.noaa.gov/ibtracs/)"
   ]
  },
  {
   "cell_type": "code",
   "execution_count": 2,
   "metadata": {},
   "outputs": [],
   "source": [
    "geo_df_usa = pd.read_csv('../data/geo_usa.csv')"
   ]
  },
  {
   "cell_type": "code",
   "execution_count": 6,
   "metadata": {},
   "outputs": [],
   "source": [
    "geo_df_usa.drop(columns = 'Unnamed: 0', inplace = True)"
   ]
  },
  {
   "cell_type": "code",
   "execution_count": 7,
   "metadata": {},
   "outputs": [
    {
     "data": {
      "text/html": [
       "<div>\n",
       "<style scoped>\n",
       "    .dataframe tbody tr th:only-of-type {\n",
       "        vertical-align: middle;\n",
       "    }\n",
       "\n",
       "    .dataframe tbody tr th {\n",
       "        vertical-align: top;\n",
       "    }\n",
       "\n",
       "    .dataframe thead th {\n",
       "        text-align: right;\n",
       "    }\n",
       "</style>\n",
       "<table border=\"1\" class=\"dataframe\">\n",
       "  <thead>\n",
       "    <tr style=\"text-align: right;\">\n",
       "      <th></th>\n",
       "      <th>storm_id</th>\n",
       "      <th>year</th>\n",
       "      <th>number</th>\n",
       "      <th>name</th>\n",
       "      <th>iso_time</th>\n",
       "      <th>nature</th>\n",
       "      <th>latitude</th>\n",
       "      <th>longitude</th>\n",
       "      <th>wmo_wind(knots)</th>\n",
       "      <th>wmo_pressure(mb)</th>\n",
       "      <th>...</th>\n",
       "      <th>usa_status</th>\n",
       "      <th>usa_wind</th>\n",
       "      <th>usa_pres</th>\n",
       "      <th>storm_category</th>\n",
       "      <th>sea_height(ft)</th>\n",
       "      <th>storm_speed(knots)</th>\n",
       "      <th>storm_direction(degrees)</th>\n",
       "      <th>geometry</th>\n",
       "      <th>state</th>\n",
       "      <th>county</th>\n",
       "    </tr>\n",
       "  </thead>\n",
       "  <tbody>\n",
       "    <tr>\n",
       "      <th>0</th>\n",
       "      <td>1851175N26270</td>\n",
       "      <td>1851</td>\n",
       "      <td>5.0</td>\n",
       "      <td>NOT_NAMED</td>\n",
       "      <td>1851-06-26 00:00:00</td>\n",
       "      <td>TS</td>\n",
       "      <td>28.1667</td>\n",
       "      <td>-96.8000</td>\n",
       "      <td>70.0</td>\n",
       "      <td>NaN</td>\n",
       "      <td>...</td>\n",
       "      <td>HU</td>\n",
       "      <td>70.0</td>\n",
       "      <td>NaN</td>\n",
       "      <td>1.0</td>\n",
       "      <td>NaN</td>\n",
       "      <td>5.0</td>\n",
       "      <td>282.0</td>\n",
       "      <td>POINT (-96.8 28.1667)</td>\n",
       "      <td>Texas</td>\n",
       "      <td>Calhoun</td>\n",
       "    </tr>\n",
       "    <tr>\n",
       "      <th>1</th>\n",
       "      <td>1851175N26270</td>\n",
       "      <td>1851</td>\n",
       "      <td>5.0</td>\n",
       "      <td>NOT_NAMED</td>\n",
       "      <td>1851-06-26 03:00:00</td>\n",
       "      <td>TS</td>\n",
       "      <td>28.2265</td>\n",
       "      <td>-97.0793</td>\n",
       "      <td>NaN</td>\n",
       "      <td>NaN</td>\n",
       "      <td>...</td>\n",
       "      <td>HU</td>\n",
       "      <td>65.0</td>\n",
       "      <td>NaN</td>\n",
       "      <td>1.0</td>\n",
       "      <td>NaN</td>\n",
       "      <td>5.0</td>\n",
       "      <td>284.0</td>\n",
       "      <td>POINT (-97.0793 28.2265)</td>\n",
       "      <td>Texas</td>\n",
       "      <td>Refugio</td>\n",
       "    </tr>\n",
       "  </tbody>\n",
       "</table>\n",
       "<p>2 rows × 25 columns</p>\n",
       "</div>"
      ],
      "text/plain": [
       "        storm_id  year  number       name             iso_time nature  \\\n",
       "0  1851175N26270  1851     5.0  NOT_NAMED  1851-06-26 00:00:00     TS   \n",
       "1  1851175N26270  1851     5.0  NOT_NAMED  1851-06-26 03:00:00     TS   \n",
       "\n",
       "   latitude  longitude  wmo_wind(knots)  wmo_pressure(mb)  ... usa_status  \\\n",
       "0   28.1667   -96.8000             70.0               NaN  ...         HU   \n",
       "1   28.2265   -97.0793              NaN               NaN  ...         HU   \n",
       "\n",
       "   usa_wind  usa_pres  storm_category  sea_height(ft) storm_speed(knots)  \\\n",
       "0      70.0       NaN             1.0             NaN                5.0   \n",
       "1      65.0       NaN             1.0             NaN                5.0   \n",
       "\n",
       "   storm_direction(degrees)                  geometry  state   county  \n",
       "0                     282.0     POINT (-96.8 28.1667)  Texas  Calhoun  \n",
       "1                     284.0  POINT (-97.0793 28.2265)  Texas  Refugio  \n",
       "\n",
       "[2 rows x 25 columns]"
      ]
     },
     "execution_count": 7,
     "metadata": {},
     "output_type": "execute_result"
    }
   ],
   "source": [
    "geo_df_usa.head(2)"
   ]
  },
  {
   "cell_type": "markdown",
   "metadata": {},
   "source": [
    "### COVID-19 DATA\n",
    "Source: [New York Times COVID-19 Data Hub](https://github.com/nytimes/covid-19-data)"
   ]
  },
  {
   "cell_type": "markdown",
   "metadata": {},
   "source": [
    "#### Cases and Deaths for Entire USA"
   ]
  },
  {
   "cell_type": "code",
   "execution_count": 36,
   "metadata": {},
   "outputs": [],
   "source": [
    "covid_current = pd.read_csv('../data/covid_current.csv')"
   ]
  },
  {
   "cell_type": "code",
   "execution_count": 38,
   "metadata": {},
   "outputs": [],
   "source": [
    "covid_current.rename(columns = {'date_x':'date'}, inplace = True)"
   ]
  },
  {
   "cell_type": "code",
   "execution_count": 41,
   "metadata": {},
   "outputs": [],
   "source": [
    "# Only include columns that have full data for all states and counties\n",
    "covid_current = covid_current[['date', 'county', 'state', 'fips', 'cases', 'deaths']].copy()"
   ]
  },
  {
   "cell_type": "code",
   "execution_count": 42,
   "metadata": {},
   "outputs": [
    {
     "data": {
      "text/html": [
       "<div>\n",
       "<style scoped>\n",
       "    .dataframe tbody tr th:only-of-type {\n",
       "        vertical-align: middle;\n",
       "    }\n",
       "\n",
       "    .dataframe tbody tr th {\n",
       "        vertical-align: top;\n",
       "    }\n",
       "\n",
       "    .dataframe thead th {\n",
       "        text-align: right;\n",
       "    }\n",
       "</style>\n",
       "<table border=\"1\" class=\"dataframe\">\n",
       "  <thead>\n",
       "    <tr style=\"text-align: right;\">\n",
       "      <th></th>\n",
       "      <th>date</th>\n",
       "      <th>county</th>\n",
       "      <th>state</th>\n",
       "      <th>fips</th>\n",
       "      <th>cases</th>\n",
       "      <th>deaths</th>\n",
       "    </tr>\n",
       "  </thead>\n",
       "  <tbody>\n",
       "    <tr>\n",
       "      <th>0</th>\n",
       "      <td>2020-08-11</td>\n",
       "      <td>Autauga</td>\n",
       "      <td>Alabama</td>\n",
       "      <td>1001.0</td>\n",
       "      <td>1215</td>\n",
       "      <td>23</td>\n",
       "    </tr>\n",
       "    <tr>\n",
       "      <th>1</th>\n",
       "      <td>2020-08-11</td>\n",
       "      <td>Baldwin</td>\n",
       "      <td>Alabama</td>\n",
       "      <td>1003.0</td>\n",
       "      <td>3736</td>\n",
       "      <td>32</td>\n",
       "    </tr>\n",
       "    <tr>\n",
       "      <th>2</th>\n",
       "      <td>2020-08-11</td>\n",
       "      <td>Barbour</td>\n",
       "      <td>Alabama</td>\n",
       "      <td>1005.0</td>\n",
       "      <td>643</td>\n",
       "      <td>6</td>\n",
       "    </tr>\n",
       "  </tbody>\n",
       "</table>\n",
       "</div>"
      ],
      "text/plain": [
       "         date   county    state    fips  cases  deaths\n",
       "0  2020-08-11  Autauga  Alabama  1001.0   1215      23\n",
       "1  2020-08-11  Baldwin  Alabama  1003.0   3736      32\n",
       "2  2020-08-11  Barbour  Alabama  1005.0    643       6"
      ]
     },
     "execution_count": 42,
     "metadata": {},
     "output_type": "execute_result"
    }
   ],
   "source": [
    "covid_current.head(3)"
   ]
  },
  {
   "cell_type": "markdown",
   "metadata": {},
   "source": [
    "#### Cases, Deaths, and Change in Cases per 100,000 People for States Impacted by Tropical Storms"
   ]
  },
  {
   "cell_type": "code",
   "execution_count": 19,
   "metadata": {},
   "outputs": [],
   "source": [
    "covid_hurricane_states = pd.read_csv('../data/covid_hurricane_states.csv')"
   ]
  },
  {
   "cell_type": "code",
   "execution_count": 44,
   "metadata": {},
   "outputs": [],
   "source": [
    "covid_hurricane_states.rename(columns = {'date_x':'current_date', \n",
    "                                         'cases':'current_cases',\n",
    "                                         'deaths': 'current_deaths',\n",
    "                                         'cases_per_100000': 'current_cases_per_100000',\n",
    "                                         'date_y':'one_week_ago_date'}, inplace = True)"
   ]
  },
  {
   "cell_type": "code",
   "execution_count": 45,
   "metadata": {},
   "outputs": [
    {
     "data": {
      "text/html": [
       "<div>\n",
       "<style scoped>\n",
       "    .dataframe tbody tr th:only-of-type {\n",
       "        vertical-align: middle;\n",
       "    }\n",
       "\n",
       "    .dataframe tbody tr th {\n",
       "        vertical-align: top;\n",
       "    }\n",
       "\n",
       "    .dataframe thead th {\n",
       "        text-align: right;\n",
       "    }\n",
       "</style>\n",
       "<table border=\"1\" class=\"dataframe\">\n",
       "  <thead>\n",
       "    <tr style=\"text-align: right;\">\n",
       "      <th></th>\n",
       "      <th>current_date</th>\n",
       "      <th>county</th>\n",
       "      <th>state</th>\n",
       "      <th>fips</th>\n",
       "      <th>current_cases</th>\n",
       "      <th>current_deaths</th>\n",
       "      <th>2019_population</th>\n",
       "      <th>current_cases_per_100000</th>\n",
       "      <th>one_week_ago_date</th>\n",
       "      <th>previous_cases</th>\n",
       "      <th>previous_cases_per_100000</th>\n",
       "      <th>change_in_cases</th>\n",
       "      <th>change_in_case_ratio</th>\n",
       "    </tr>\n",
       "  </thead>\n",
       "  <tbody>\n",
       "    <tr>\n",
       "      <th>0</th>\n",
       "      <td>2020-08-11</td>\n",
       "      <td>Autauga</td>\n",
       "      <td>Alabama</td>\n",
       "      <td>1001.0</td>\n",
       "      <td>1215</td>\n",
       "      <td>23</td>\n",
       "      <td>55869.0</td>\n",
       "      <td>2174.7</td>\n",
       "      <td>2020-08-04</td>\n",
       "      <td>1073.0</td>\n",
       "      <td>1920.6</td>\n",
       "      <td>142.0</td>\n",
       "      <td>254.1</td>\n",
       "    </tr>\n",
       "    <tr>\n",
       "      <th>1</th>\n",
       "      <td>2020-08-11</td>\n",
       "      <td>Baldwin</td>\n",
       "      <td>Alabama</td>\n",
       "      <td>1003.0</td>\n",
       "      <td>3736</td>\n",
       "      <td>32</td>\n",
       "      <td>223234.0</td>\n",
       "      <td>1673.6</td>\n",
       "      <td>2020-08-04</td>\n",
       "      <td>3320.0</td>\n",
       "      <td>1487.2</td>\n",
       "      <td>416.0</td>\n",
       "      <td>186.4</td>\n",
       "    </tr>\n",
       "    <tr>\n",
       "      <th>2</th>\n",
       "      <td>2020-08-11</td>\n",
       "      <td>Barbour</td>\n",
       "      <td>Alabama</td>\n",
       "      <td>1005.0</td>\n",
       "      <td>643</td>\n",
       "      <td>6</td>\n",
       "      <td>24686.0</td>\n",
       "      <td>2604.7</td>\n",
       "      <td>2020-08-04</td>\n",
       "      <td>614.0</td>\n",
       "      <td>2487.2</td>\n",
       "      <td>29.0</td>\n",
       "      <td>117.5</td>\n",
       "    </tr>\n",
       "  </tbody>\n",
       "</table>\n",
       "</div>"
      ],
      "text/plain": [
       "  current_date   county    state    fips  current_cases  current_deaths  \\\n",
       "0   2020-08-11  Autauga  Alabama  1001.0           1215              23   \n",
       "1   2020-08-11  Baldwin  Alabama  1003.0           3736              32   \n",
       "2   2020-08-11  Barbour  Alabama  1005.0            643               6   \n",
       "\n",
       "   2019_population  current_cases_per_100000 one_week_ago_date  \\\n",
       "0          55869.0                    2174.7        2020-08-04   \n",
       "1         223234.0                    1673.6        2020-08-04   \n",
       "2          24686.0                    2604.7        2020-08-04   \n",
       "\n",
       "   previous_cases  previous_cases_per_100000  change_in_cases  \\\n",
       "0          1073.0                     1920.6            142.0   \n",
       "1          3320.0                     1487.2            416.0   \n",
       "2           614.0                     2487.2             29.0   \n",
       "\n",
       "   change_in_case_ratio  \n",
       "0                 254.1  \n",
       "1                 186.4  \n",
       "2                 117.5  "
      ]
     },
     "execution_count": 45,
     "metadata": {},
     "output_type": "execute_result"
    }
   ],
   "source": [
    "covid_hurricane_states.head(3)"
   ]
  },
  {
   "cell_type": "markdown",
   "metadata": {},
   "source": [
    "### Hurricane and COVID-19 Data\n",
    "Source: Created by aggregating historical hurricane data and current COVID-19 data"
   ]
  },
  {
   "cell_type": "markdown",
   "metadata": {},
   "source": [
    "## Read-In Geopandas Data"
   ]
  },
  {
   "cell_type": "markdown",
   "metadata": {},
   "source": [
    "### USA - States"
   ]
  },
  {
   "cell_type": "code",
   "execution_count": 12,
   "metadata": {},
   "outputs": [
    {
     "data": {
      "text/html": [
       "<div>\n",
       "<style scoped>\n",
       "    .dataframe tbody tr th:only-of-type {\n",
       "        vertical-align: middle;\n",
       "    }\n",
       "\n",
       "    .dataframe tbody tr th {\n",
       "        vertical-align: top;\n",
       "    }\n",
       "\n",
       "    .dataframe thead th {\n",
       "        text-align: right;\n",
       "    }\n",
       "</style>\n",
       "<table border=\"1\" class=\"dataframe\">\n",
       "  <thead>\n",
       "    <tr style=\"text-align: right;\">\n",
       "      <th></th>\n",
       "      <th>STATE_NAME</th>\n",
       "      <th>DRAWSEQ</th>\n",
       "      <th>STATE_FIPS</th>\n",
       "      <th>SUB_REGION</th>\n",
       "      <th>STATE_ABBR</th>\n",
       "      <th>geometry</th>\n",
       "    </tr>\n",
       "  </thead>\n",
       "  <tbody>\n",
       "    <tr>\n",
       "      <th>0</th>\n",
       "      <td>Hawaii</td>\n",
       "      <td>1</td>\n",
       "      <td>15</td>\n",
       "      <td>Pacific</td>\n",
       "      <td>HI</td>\n",
       "      <td>MULTIPOLYGON (((-160.07380 22.00418, -160.0497...</td>\n",
       "    </tr>\n",
       "    <tr>\n",
       "      <th>1</th>\n",
       "      <td>Washington</td>\n",
       "      <td>2</td>\n",
       "      <td>53</td>\n",
       "      <td>Pacific</td>\n",
       "      <td>WA</td>\n",
       "      <td>MULTIPOLYGON (((-122.40202 48.22522, -122.4628...</td>\n",
       "    </tr>\n",
       "    <tr>\n",
       "      <th>2</th>\n",
       "      <td>Montana</td>\n",
       "      <td>3</td>\n",
       "      <td>30</td>\n",
       "      <td>Mountain</td>\n",
       "      <td>MT</td>\n",
       "      <td>POLYGON ((-111.47543 44.70216, -111.48080 44.6...</td>\n",
       "    </tr>\n",
       "  </tbody>\n",
       "</table>\n",
       "</div>"
      ],
      "text/plain": [
       "   STATE_NAME  DRAWSEQ STATE_FIPS SUB_REGION STATE_ABBR  \\\n",
       "0      Hawaii        1         15    Pacific         HI   \n",
       "1  Washington        2         53    Pacific         WA   \n",
       "2     Montana        3         30   Mountain         MT   \n",
       "\n",
       "                                            geometry  \n",
       "0  MULTIPOLYGON (((-160.07380 22.00418, -160.0497...  \n",
       "1  MULTIPOLYGON (((-122.40202 48.22522, -122.4628...  \n",
       "2  POLYGON ((-111.47543 44.70216, -111.48080 44.6...  "
      ]
     },
     "execution_count": 12,
     "metadata": {},
     "output_type": "execute_result"
    }
   ],
   "source": [
    "usa_states = gpd.read_file('../maps/states_21basic/states.shp')\n",
    "usa_states.head(3)"
   ]
  },
  {
   "cell_type": "markdown",
   "metadata": {},
   "source": [
    "### USA - Counties"
   ]
  },
  {
   "cell_type": "code",
   "execution_count": 13,
   "metadata": {},
   "outputs": [
    {
     "data": {
      "text/html": [
       "<div>\n",
       "<style scoped>\n",
       "    .dataframe tbody tr th:only-of-type {\n",
       "        vertical-align: middle;\n",
       "    }\n",
       "\n",
       "    .dataframe tbody tr th {\n",
       "        vertical-align: top;\n",
       "    }\n",
       "\n",
       "    .dataframe thead th {\n",
       "        text-align: right;\n",
       "    }\n",
       "</style>\n",
       "<table border=\"1\" class=\"dataframe\">\n",
       "  <thead>\n",
       "    <tr style=\"text-align: right;\">\n",
       "      <th></th>\n",
       "      <th>STATEFP</th>\n",
       "      <th>COUNTYFP</th>\n",
       "      <th>COUNTYNS</th>\n",
       "      <th>AFFGEOID</th>\n",
       "      <th>GEOID</th>\n",
       "      <th>NAME</th>\n",
       "      <th>LSAD</th>\n",
       "      <th>ALAND</th>\n",
       "      <th>AWATER</th>\n",
       "      <th>geometry</th>\n",
       "    </tr>\n",
       "  </thead>\n",
       "  <tbody>\n",
       "    <tr>\n",
       "      <th>0</th>\n",
       "      <td>37</td>\n",
       "      <td>017</td>\n",
       "      <td>01026336</td>\n",
       "      <td>0500000US37017</td>\n",
       "      <td>37017</td>\n",
       "      <td>Bladen</td>\n",
       "      <td>06</td>\n",
       "      <td>2265887723</td>\n",
       "      <td>33010866</td>\n",
       "      <td>POLYGON ((-78.90200 34.83527, -78.79960 34.850...</td>\n",
       "    </tr>\n",
       "    <tr>\n",
       "      <th>1</th>\n",
       "      <td>37</td>\n",
       "      <td>167</td>\n",
       "      <td>01025844</td>\n",
       "      <td>0500000US37167</td>\n",
       "      <td>37167</td>\n",
       "      <td>Stanly</td>\n",
       "      <td>06</td>\n",
       "      <td>1023370459</td>\n",
       "      <td>25242751</td>\n",
       "      <td>POLYGON ((-80.49737 35.20210, -80.29542 35.502...</td>\n",
       "    </tr>\n",
       "    <tr>\n",
       "      <th>2</th>\n",
       "      <td>39</td>\n",
       "      <td>153</td>\n",
       "      <td>01074088</td>\n",
       "      <td>0500000US39153</td>\n",
       "      <td>39153</td>\n",
       "      <td>Summit</td>\n",
       "      <td>06</td>\n",
       "      <td>1069181981</td>\n",
       "      <td>18958267</td>\n",
       "      <td>POLYGON ((-81.68699 41.13596, -81.68495 41.277...</td>\n",
       "    </tr>\n",
       "  </tbody>\n",
       "</table>\n",
       "</div>"
      ],
      "text/plain": [
       "  STATEFP COUNTYFP  COUNTYNS        AFFGEOID  GEOID    NAME LSAD       ALAND  \\\n",
       "0      37      017  01026336  0500000US37017  37017  Bladen   06  2265887723   \n",
       "1      37      167  01025844  0500000US37167  37167  Stanly   06  1023370459   \n",
       "2      39      153  01074088  0500000US39153  39153  Summit   06  1069181981   \n",
       "\n",
       "     AWATER                                           geometry  \n",
       "0  33010866  POLYGON ((-78.90200 34.83527, -78.79960 34.850...  \n",
       "1  25242751  POLYGON ((-80.49737 35.20210, -80.29542 35.502...  \n",
       "2  18958267  POLYGON ((-81.68699 41.13596, -81.68495 41.277...  "
      ]
     },
     "execution_count": 13,
     "metadata": {},
     "output_type": "execute_result"
    }
   ],
   "source": [
    "usa_counties = gpd.read_file('../maps/cb_2018_us_county_20m/cb_2018_us_county_20m.shp')\n",
    "usa_counties.head(3)"
   ]
  },
  {
   "cell_type": "code",
   "execution_count": null,
   "metadata": {},
   "outputs": [],
   "source": []
  }
 ],
 "metadata": {
  "kernelspec": {
   "display_name": "Python 3",
   "language": "python",
   "name": "python3"
  },
  "language_info": {
   "codemirror_mode": {
    "name": "ipython",
    "version": 3
   },
   "file_extension": ".py",
   "mimetype": "text/x-python",
   "name": "python",
   "nbconvert_exporter": "python",
   "pygments_lexer": "ipython3",
   "version": "3.7.6"
  }
 },
 "nbformat": 4,
 "nbformat_minor": 4
}
