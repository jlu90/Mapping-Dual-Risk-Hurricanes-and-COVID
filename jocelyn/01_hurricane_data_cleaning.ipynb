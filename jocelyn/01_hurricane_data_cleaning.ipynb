{
 "cells": [
  {
   "cell_type": "markdown",
   "metadata": {},
   "source": [
    "# Data Cleaning - Historic Hurricane Data"
   ]
  },
  {
   "cell_type": "markdown",
   "metadata": {},
   "source": [
    "## Imports"
   ]
  },
  {
   "cell_type": "code",
   "execution_count": 3,
   "metadata": {},
   "outputs": [],
   "source": [
    "import pandas as pd\n",
    "import seaborn as sns\n",
    "import time\n",
    "import geopandas as gpd\n",
    "\n",
    "pd.set_option(\"display.max_columns\", None)"
   ]
  },
  {
   "cell_type": "markdown",
   "metadata": {},
   "source": [
    "## Read-In Data\n",
    "Source: [IBTrACS Version 4 from the National Centers for Environmental Information](https://www.ncdc.noaa.gov/ibtracs/)\n",
    "\n",
    "Data on tropical storm systems that have occurred in the North Atlantic Ocean was retrieved from the International Best Track Archive for Climate Stewardship (IBTrACS) on August 2, 2020. The IBTrACS data serve to provide tracking information for all tropical cyclones and storms in order to aid understanding of the distribution, frequency, and intensity of tropical storm systems. "
   ]
  },
  {
   "cell_type": "code",
   "execution_count": 5,
   "metadata": {},
   "outputs": [],
   "source": [
    "atlantic = pd.read_csv('../data/hurricanes_east_coast.csv', na_values = ' ');"
   ]
  },
  {
   "cell_type": "markdown",
   "metadata": {},
   "source": [
    "### Selection of Relevant Columns"
   ]
  },
  {
   "cell_type": "code",
   "execution_count": 6,
   "metadata": {},
   "outputs": [],
   "source": [
    "atlantic = atlantic[['SID','SEASON', 'NUMBER', 'NAME','ISO_TIME','NATURE','LAT','LON','WMO_WIND','WMO_PRES', 'WMO_AGENCY', 'DIST2LAND', 'LANDFALL', 'USA_LAT', 'USA_LON', 'USA_RECORD', 'USA_STATUS', 'USA_WIND', 'USA_PRES', 'USA_SSHS', 'USA_EYE', 'USA_SEAHGT', 'STORM_SPEED', 'STORM_DIR']]"
   ]
  },
  {
   "cell_type": "markdown",
   "metadata": {},
   "source": [
    "#### Rename Columns"
   ]
  },
  {
   "cell_type": "code",
   "execution_count": 8,
   "metadata": {},
   "outputs": [],
   "source": [
    "atlantic.rename(columns = {\n",
    "    \"SID\" : \"storm_id\",\n",
    "    \"SEASON\" : \"year\",\n",
    "    \"LAT\" : \"latitude\",\n",
    "    \"LON\" : \"longitude\",\n",
    "    \"WMO_WIND\" : \"wmo_wind(knots)\",\n",
    "    \"WMO_PRES\" : \"wmo_pressure(mb)\", # World Meteorological Organization\n",
    "    \"DIST2LAND\" : \"dist2land(km)\",\n",
    "    \"LANDFALL\" : \"landfall(km)\",\n",
    "    \"USA_SSHS\" : \"storm_category\",\n",
    "    \"USA_EYE\" : \"eye_diameter\",\n",
    "    \"USA_SEAHGT\" : \"sea_height(ft)\",\n",
    "    \"STORM_SPEED\" : \"storm_speed(knots)\",\n",
    "    \"STORM_DIR\" : \"storm_direction(degrees)\"\n",
    "    }, inplace = True)\n",
    "atlantic.columns = atlantic.columns.str.lower()\n",
    "atlantic.drop(index = 0, inplace = True)\n",
    "atlantic.reset_index(drop = True, inplace = True)"
   ]
  },
  {
   "cell_type": "markdown",
   "metadata": {},
   "source": [
    "### Selection of Only Storms That Made Landfall"
   ]
  },
  {
   "cell_type": "code",
   "execution_count": 9,
   "metadata": {},
   "outputs": [],
   "source": [
    "atlantic['landfall(km)'] = atlantic['landfall(km)'].map(float)\n",
    "atlantic = atlantic[atlantic['landfall(km)'] == 0]"
   ]
  },
  {
   "cell_type": "code",
   "execution_count": 10,
   "metadata": {},
   "outputs": [
    {
     "data": {
      "text/html": [
       "<div>\n",
       "<style scoped>\n",
       "    .dataframe tbody tr th:only-of-type {\n",
       "        vertical-align: middle;\n",
       "    }\n",
       "\n",
       "    .dataframe tbody tr th {\n",
       "        vertical-align: top;\n",
       "    }\n",
       "\n",
       "    .dataframe thead th {\n",
       "        text-align: right;\n",
       "    }\n",
       "</style>\n",
       "<table border=\"1\" class=\"dataframe\">\n",
       "  <thead>\n",
       "    <tr style=\"text-align: right;\">\n",
       "      <th></th>\n",
       "      <th>storm_id</th>\n",
       "      <th>year</th>\n",
       "      <th>number</th>\n",
       "      <th>name</th>\n",
       "      <th>iso_time</th>\n",
       "      <th>nature</th>\n",
       "      <th>latitude</th>\n",
       "      <th>longitude</th>\n",
       "      <th>wmo_wind(knots)</th>\n",
       "      <th>wmo_pressure(mb)</th>\n",
       "      <th>wmo_agency</th>\n",
       "      <th>dist2land(km)</th>\n",
       "      <th>landfall(km)</th>\n",
       "      <th>usa_lat</th>\n",
       "      <th>usa_lon</th>\n",
       "      <th>usa_record</th>\n",
       "      <th>usa_status</th>\n",
       "      <th>usa_wind</th>\n",
       "      <th>usa_pres</th>\n",
       "      <th>storm_category</th>\n",
       "      <th>eye_diameter</th>\n",
       "      <th>sea_height(ft)</th>\n",
       "      <th>storm_speed(knots)</th>\n",
       "      <th>storm_direction(degrees)</th>\n",
       "    </tr>\n",
       "  </thead>\n",
       "  <tbody>\n",
       "    <tr>\n",
       "      <th>19</th>\n",
       "      <td>1851175N26270</td>\n",
       "      <td>1851</td>\n",
       "      <td>5.0</td>\n",
       "      <td>NOT_NAMED</td>\n",
       "      <td>1851-06-25 21:00:00</td>\n",
       "      <td>TS</td>\n",
       "      <td>28.1333</td>\n",
       "      <td>-96.5667</td>\n",
       "      <td>80</td>\n",
       "      <td>NaN</td>\n",
       "      <td>hurdat_atl</td>\n",
       "      <td>22</td>\n",
       "      <td>0.0</td>\n",
       "      <td>28.2000</td>\n",
       "      <td>-96.8000</td>\n",
       "      <td>L</td>\n",
       "      <td>HU</td>\n",
       "      <td>80</td>\n",
       "      <td>NaN</td>\n",
       "      <td>1.0</td>\n",
       "      <td>NaN</td>\n",
       "      <td>NaN</td>\n",
       "      <td>5</td>\n",
       "      <td>286</td>\n",
       "    </tr>\n",
       "    <tr>\n",
       "      <th>20</th>\n",
       "      <td>1851175N26270</td>\n",
       "      <td>1851</td>\n",
       "      <td>5.0</td>\n",
       "      <td>NOT_NAMED</td>\n",
       "      <td>1851-06-26 00:00:00</td>\n",
       "      <td>TS</td>\n",
       "      <td>28.1667</td>\n",
       "      <td>-96.8000</td>\n",
       "      <td>70</td>\n",
       "      <td>NaN</td>\n",
       "      <td>hurdat_atl</td>\n",
       "      <td>0</td>\n",
       "      <td>0.0</td>\n",
       "      <td>28.2000</td>\n",
       "      <td>-97.0000</td>\n",
       "      <td>NaN</td>\n",
       "      <td>HU</td>\n",
       "      <td>70</td>\n",
       "      <td>NaN</td>\n",
       "      <td>1.0</td>\n",
       "      <td>NaN</td>\n",
       "      <td>NaN</td>\n",
       "      <td>5</td>\n",
       "      <td>282</td>\n",
       "    </tr>\n",
       "  </tbody>\n",
       "</table>\n",
       "</div>"
      ],
      "text/plain": [
       "         storm_id  year  number       name             iso_time nature  \\\n",
       "19  1851175N26270  1851     5.0  NOT_NAMED  1851-06-25 21:00:00     TS   \n",
       "20  1851175N26270  1851     5.0  NOT_NAMED  1851-06-26 00:00:00     TS   \n",
       "\n",
       "   latitude longitude wmo_wind(knots) wmo_pressure(mb)  wmo_agency  \\\n",
       "19  28.1333  -96.5667              80              NaN  hurdat_atl   \n",
       "20  28.1667  -96.8000              70              NaN  hurdat_atl   \n",
       "\n",
       "   dist2land(km)  landfall(km)  usa_lat   usa_lon usa_record usa_status  \\\n",
       "19            22           0.0  28.2000  -96.8000          L         HU   \n",
       "20             0           0.0  28.2000  -97.0000        NaN         HU   \n",
       "\n",
       "   usa_wind usa_pres  storm_category eye_diameter sea_height(ft)  \\\n",
       "19       80      NaN             1.0          NaN            NaN   \n",
       "20       70      NaN             1.0          NaN            NaN   \n",
       "\n",
       "   storm_speed(knots) storm_direction(degrees)  \n",
       "19                  5                      286  \n",
       "20                  5                      282  "
      ]
     },
     "execution_count": 10,
     "metadata": {},
     "output_type": "execute_result"
    }
   ],
   "source": [
    "atlantic.head(2)"
   ]
  },
  {
   "cell_type": "markdown",
   "metadata": {},
   "source": [
    "## Read-In Shape Files for State and County Labeling"
   ]
  },
  {
   "cell_type": "markdown",
   "metadata": {},
   "source": [
    "### USA - States\n",
    "Source: **ASK URI!**\n",
    "\n",
    "This geopandas data frame will allows us to label the state of each point in our hurricanes data frame."
   ]
  },
  {
   "cell_type": "code",
   "execution_count": null,
   "metadata": {},
   "outputs": [],
   "source": [
    "usa_states = gpd.read_file('../maps/states_21basic/states.shp')\n",
    "usa_states.head()"
   ]
  },
  {
   "cell_type": "markdown",
   "metadata": {},
   "source": [
    "### USA - Counties\n",
    "Source: [United States Census Bureau](https://www.census.gov/geographies/mapping-files/time-series/geo/carto-boundary-file.html)\n",
    "\n",
    "This geopandas data frame will allow us to label the county of each point in our hurricanes data frame."
   ]
  },
  {
   "cell_type": "code",
   "execution_count": 11,
   "metadata": {},
   "outputs": [
    {
     "data": {
      "text/html": [
       "<div>\n",
       "<style scoped>\n",
       "    .dataframe tbody tr th:only-of-type {\n",
       "        vertical-align: middle;\n",
       "    }\n",
       "\n",
       "    .dataframe tbody tr th {\n",
       "        vertical-align: top;\n",
       "    }\n",
       "\n",
       "    .dataframe thead th {\n",
       "        text-align: right;\n",
       "    }\n",
       "</style>\n",
       "<table border=\"1\" class=\"dataframe\">\n",
       "  <thead>\n",
       "    <tr style=\"text-align: right;\">\n",
       "      <th></th>\n",
       "      <th>STATEFP</th>\n",
       "      <th>COUNTYFP</th>\n",
       "      <th>COUNTYNS</th>\n",
       "      <th>AFFGEOID</th>\n",
       "      <th>GEOID</th>\n",
       "      <th>NAME</th>\n",
       "      <th>LSAD</th>\n",
       "      <th>ALAND</th>\n",
       "      <th>AWATER</th>\n",
       "      <th>geometry</th>\n",
       "    </tr>\n",
       "  </thead>\n",
       "  <tbody>\n",
       "    <tr>\n",
       "      <th>0</th>\n",
       "      <td>37</td>\n",
       "      <td>017</td>\n",
       "      <td>01026336</td>\n",
       "      <td>0500000US37017</td>\n",
       "      <td>37017</td>\n",
       "      <td>Bladen</td>\n",
       "      <td>06</td>\n",
       "      <td>2265887723</td>\n",
       "      <td>33010866</td>\n",
       "      <td>POLYGON ((-78.90200 34.83527, -78.79960 34.850...</td>\n",
       "    </tr>\n",
       "    <tr>\n",
       "      <th>1</th>\n",
       "      <td>37</td>\n",
       "      <td>167</td>\n",
       "      <td>01025844</td>\n",
       "      <td>0500000US37167</td>\n",
       "      <td>37167</td>\n",
       "      <td>Stanly</td>\n",
       "      <td>06</td>\n",
       "      <td>1023370459</td>\n",
       "      <td>25242751</td>\n",
       "      <td>POLYGON ((-80.49737 35.20210, -80.29542 35.502...</td>\n",
       "    </tr>\n",
       "    <tr>\n",
       "      <th>2</th>\n",
       "      <td>39</td>\n",
       "      <td>153</td>\n",
       "      <td>01074088</td>\n",
       "      <td>0500000US39153</td>\n",
       "      <td>39153</td>\n",
       "      <td>Summit</td>\n",
       "      <td>06</td>\n",
       "      <td>1069181981</td>\n",
       "      <td>18958267</td>\n",
       "      <td>POLYGON ((-81.68699 41.13596, -81.68495 41.277...</td>\n",
       "    </tr>\n",
       "    <tr>\n",
       "      <th>3</th>\n",
       "      <td>42</td>\n",
       "      <td>113</td>\n",
       "      <td>01213687</td>\n",
       "      <td>0500000US42113</td>\n",
       "      <td>42113</td>\n",
       "      <td>Sullivan</td>\n",
       "      <td>06</td>\n",
       "      <td>1165338428</td>\n",
       "      <td>6617028</td>\n",
       "      <td>POLYGON ((-76.81373 41.59003, -76.22014 41.541...</td>\n",
       "    </tr>\n",
       "    <tr>\n",
       "      <th>4</th>\n",
       "      <td>48</td>\n",
       "      <td>459</td>\n",
       "      <td>01384015</td>\n",
       "      <td>0500000US48459</td>\n",
       "      <td>48459</td>\n",
       "      <td>Upshur</td>\n",
       "      <td>06</td>\n",
       "      <td>1509910100</td>\n",
       "      <td>24878888</td>\n",
       "      <td>POLYGON ((-95.15274 32.66095, -95.15211 32.902...</td>\n",
       "    </tr>\n",
       "  </tbody>\n",
       "</table>\n",
       "</div>"
      ],
      "text/plain": [
       "  STATEFP COUNTYFP  COUNTYNS        AFFGEOID  GEOID      NAME LSAD  \\\n",
       "0      37      017  01026336  0500000US37017  37017    Bladen   06   \n",
       "1      37      167  01025844  0500000US37167  37167    Stanly   06   \n",
       "2      39      153  01074088  0500000US39153  39153    Summit   06   \n",
       "3      42      113  01213687  0500000US42113  42113  Sullivan   06   \n",
       "4      48      459  01384015  0500000US48459  48459    Upshur   06   \n",
       "\n",
       "        ALAND    AWATER                                           geometry  \n",
       "0  2265887723  33010866  POLYGON ((-78.90200 34.83527, -78.79960 34.850...  \n",
       "1  1023370459  25242751  POLYGON ((-80.49737 35.20210, -80.29542 35.502...  \n",
       "2  1069181981  18958267  POLYGON ((-81.68699 41.13596, -81.68495 41.277...  \n",
       "3  1165338428   6617028  POLYGON ((-76.81373 41.59003, -76.22014 41.541...  \n",
       "4  1509910100  24878888  POLYGON ((-95.15274 32.66095, -95.15211 32.902...  "
      ]
     },
     "execution_count": 11,
     "metadata": {},
     "output_type": "execute_result"
    }
   ],
   "source": [
    "usa_counties = gpd.read_file('../maps/cb_2018_us_county_20m/cb_2018_us_county_20m.shp')\n",
    "usa_counties.head()"
   ]
  },
  {
   "cell_type": "markdown",
   "metadata": {},
   "source": [
    "## Identifying Hurricane Rows Within the USA"
   ]
  },
  {
   "cell_type": "markdown",
   "metadata": {},
   "source": [
    "In this step, we will compare the coordinates of each tropical storm in the North Atlantic Hurricanes data frame with the states and counties in the shape files. We will assign a state and county to each storm that made landfall in the United States."
   ]
  },
  {
   "cell_type": "markdown",
   "metadata": {},
   "source": [
    "#### Assign Hurricanes Data Frame to a Geopandas Data Frame"
   ]
  },
  {
   "cell_type": "code",
   "execution_count": 14,
   "metadata": {},
   "outputs": [],
   "source": [
    "geo_df = gpd.GeoDataFrame(atlantic, geometry = gpd.points_from_xy(atlantic['longitude'], atlantic['latitude']))"
   ]
  },
  {
   "cell_type": "code",
   "execution_count": 16,
   "metadata": {},
   "outputs": [
    {
     "data": {
      "text/html": [
       "<div>\n",
       "<style scoped>\n",
       "    .dataframe tbody tr th:only-of-type {\n",
       "        vertical-align: middle;\n",
       "    }\n",
       "\n",
       "    .dataframe tbody tr th {\n",
       "        vertical-align: top;\n",
       "    }\n",
       "\n",
       "    .dataframe thead th {\n",
       "        text-align: right;\n",
       "    }\n",
       "</style>\n",
       "<table border=\"1\" class=\"dataframe\">\n",
       "  <thead>\n",
       "    <tr style=\"text-align: right;\">\n",
       "      <th></th>\n",
       "      <th>storm_id</th>\n",
       "      <th>year</th>\n",
       "      <th>number</th>\n",
       "      <th>name</th>\n",
       "      <th>iso_time</th>\n",
       "      <th>nature</th>\n",
       "      <th>latitude</th>\n",
       "      <th>longitude</th>\n",
       "      <th>wmo_wind(knots)</th>\n",
       "      <th>wmo_pressure(mb)</th>\n",
       "      <th>wmo_agency</th>\n",
       "      <th>dist2land(km)</th>\n",
       "      <th>landfall(km)</th>\n",
       "      <th>usa_lat</th>\n",
       "      <th>usa_lon</th>\n",
       "      <th>usa_record</th>\n",
       "      <th>usa_status</th>\n",
       "      <th>usa_wind</th>\n",
       "      <th>usa_pres</th>\n",
       "      <th>storm_category</th>\n",
       "      <th>eye_diameter</th>\n",
       "      <th>sea_height(ft)</th>\n",
       "      <th>storm_speed(knots)</th>\n",
       "      <th>storm_direction(degrees)</th>\n",
       "      <th>geometry</th>\n",
       "    </tr>\n",
       "  </thead>\n",
       "  <tbody>\n",
       "    <tr>\n",
       "      <th>19</th>\n",
       "      <td>1851175N26270</td>\n",
       "      <td>1851</td>\n",
       "      <td>5.0</td>\n",
       "      <td>NOT_NAMED</td>\n",
       "      <td>1851-06-25 21:00:00</td>\n",
       "      <td>TS</td>\n",
       "      <td>28.1333</td>\n",
       "      <td>-96.5667</td>\n",
       "      <td>80</td>\n",
       "      <td>NaN</td>\n",
       "      <td>hurdat_atl</td>\n",
       "      <td>22</td>\n",
       "      <td>0.0</td>\n",
       "      <td>28.2000</td>\n",
       "      <td>-96.8000</td>\n",
       "      <td>L</td>\n",
       "      <td>HU</td>\n",
       "      <td>80</td>\n",
       "      <td>NaN</td>\n",
       "      <td>1.0</td>\n",
       "      <td>NaN</td>\n",
       "      <td>NaN</td>\n",
       "      <td>5</td>\n",
       "      <td>286</td>\n",
       "      <td>POINT (-96.56670 28.13330)</td>\n",
       "    </tr>\n",
       "  </tbody>\n",
       "</table>\n",
       "</div>"
      ],
      "text/plain": [
       "         storm_id  year  number       name             iso_time nature  \\\n",
       "19  1851175N26270  1851     5.0  NOT_NAMED  1851-06-25 21:00:00     TS   \n",
       "\n",
       "   latitude longitude wmo_wind(knots) wmo_pressure(mb)  wmo_agency  \\\n",
       "19  28.1333  -96.5667              80              NaN  hurdat_atl   \n",
       "\n",
       "   dist2land(km)  landfall(km)  usa_lat   usa_lon usa_record usa_status  \\\n",
       "19            22           0.0  28.2000  -96.8000          L         HU   \n",
       "\n",
       "   usa_wind usa_pres  storm_category eye_diameter sea_height(ft)  \\\n",
       "19       80      NaN             1.0          NaN            NaN   \n",
       "\n",
       "   storm_speed(knots) storm_direction(degrees)                    geometry  \n",
       "19                  5                      286  POINT (-96.56670 28.13330)  "
      ]
     },
     "execution_count": 16,
     "metadata": {},
     "output_type": "execute_result"
    }
   ],
   "source": [
    "geo_df.head(1)"
   ]
  },
  {
   "cell_type": "markdown",
   "metadata": {},
   "source": [
    "#### Write a Function to Check if a Point from the Hurricanes Data Frame is Within a State and County Boundary\n",
    "We will store the indices of the storm and their states/counties to a dictionary."
   ]
  },
  {
   "cell_type": "code",
   "execution_count": 17,
   "metadata": {},
   "outputs": [],
   "source": [
    "def usa_region_column(df1, df2, col1, new_column = None):\n",
    "    # empty dictionary\n",
    "    location_dict = {}\n",
    "    # iterate through hurricane points\n",
    "    for point_index, point in df1['geometry'].iteritems():\n",
    "        # iterate through our location dataframe\n",
    "        for index, location in df2['geometry'].iteritems():\n",
    "            if point.within(location) == True:\n",
    "                location_dict[point_index] = df2[col1][index]      \n",
    "    return location_dict"
   ]
  },
  {
   "cell_type": "markdown",
   "metadata": {},
   "source": [
    "#### Assign States"
   ]
  },
  {
   "cell_type": "code",
   "execution_count": null,
   "metadata": {},
   "outputs": [],
   "source": [
    "# Iterate Through dataframe\n",
    "hurricane_states = usa_region_column(geo_df, usa_states, 'STATE_NAME')\n",
    "\n",
    "# Only keep indices for storms within the USA\n",
    "indices_to_keep = list(hurricane_states.keys())\n",
    "\n",
    "# Create a new dataframe with points from the USA\n",
    "geo_df_usa = geo_df.loc[indices_to_keep, :]\n",
    "\n",
    "# Create a list of states \n",
    "states_list = list(hurricane_states.values())\n",
    "\n",
    "# Create a 'states' column in the USA data frame\n",
    "geo_df_usa['state'] = states_list\n",
    "\n"
   ]
  }
 ],
 "metadata": {
  "kernelspec": {
   "display_name": "Python 3",
   "language": "python",
   "name": "python3"
  },
  "language_info": {
   "codemirror_mode": {
    "name": "ipython",
    "version": 3
   },
   "file_extension": ".py",
   "mimetype": "text/x-python",
   "name": "python",
   "nbconvert_exporter": "python",
   "pygments_lexer": "ipython3",
   "version": "3.7.6"
  }
 },
 "nbformat": 4,
 "nbformat_minor": 4
}
