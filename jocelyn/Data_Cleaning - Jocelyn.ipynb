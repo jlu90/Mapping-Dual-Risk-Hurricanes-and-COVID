{
 "cells": [
  {
   "cell_type": "code",
   "execution_count": 28,
   "metadata": {},
   "outputs": [],
   "source": [
    "import pandas as pd\n",
    "import seaborn as sns\n",
    "pd.set_option(\"display.max_columns\", None)\n",
    "import time\n",
    "import googlemaps\n",
    "import geopandas as gpd"
   ]
  },
  {
   "cell_type": "code",
   "execution_count": 2,
   "metadata": {
    "scrolled": true
   },
   "outputs": [
    {
     "name": "stderr",
     "output_type": "stream",
     "text": [
      "/Users/jocelynlutes/anaconda3/lib/python3.7/site-packages/IPython/core/interactiveshell.py:3063: DtypeWarning: Columns (1,3,8,9,10,11,14,15,19,20,21,23,24,26,27,28,29,30,31,32,33,34,35,36,37,38,39,40,41,42,43,45,46,48,49,51,52,54,55,57,58,59,60,62,63,64,65,67,68,70,71,72,73,75,76,79,80,81,82,83,84,85,86,87,88,89,90,91,92,93,95,96,99,100,101,102,103,104,105,106,107,108,109,110,111,112,113,114,117,118,120,121,122,123,124,125,126,127,128,129,130,131,132,134,135,136,137,138,139,140,141,142,144,145,146,147,148,149,150,151,152,153,154,155,156,157,158,159,160,161,162) have mixed types.Specify dtype option on import or set low_memory=False.\n",
      "  interactivity=interactivity, compiler=compiler, result=result)\n"
     ]
    }
   ],
   "source": [
    "atlantic = pd.read_csv('../data/hurricanes_east_coast.csv', na_values = ' ')"
   ]
  },
  {
   "cell_type": "code",
   "execution_count": 3,
   "metadata": {},
   "outputs": [],
   "source": [
    "atlantic = atlantic[['SID','SEASON', 'NUMBER', 'NAME','ISO_TIME','NATURE','LAT','LON','WMO_WIND','WMO_PRES', 'WMO_AGENCY', 'DIST2LAND', 'LANDFALL', 'USA_LAT', 'USA_LON', 'USA_RECORD', 'USA_STATUS', 'USA_WIND', 'USA_PRES', 'USA_SSHS', 'USA_EYE', 'USA_SEAHGT', 'STORM_SPEED', 'STORM_DIR']]"
   ]
  },
  {
   "cell_type": "code",
   "execution_count": 4,
   "metadata": {},
   "outputs": [],
   "source": [
    "atlantic.rename(columns = {\n",
    "    \"SID\" : \"storm_id\",\n",
    "    \"SEASON\" : \"year\",\n",
    "    \"LAT\" : \"latitude\",\n",
    "    \"LON\" : \"longitude\",\n",
    "    \"WMO_WIND\" : \"wmo_wind(knots)\",\n",
    "    \"WMO_PRES\" : \"wmo_pressure(mb)\", # World Meteorological Organization\n",
    "    \"DIST2LAND\" : \"dist2land(km)\",\n",
    "    \"LANDFALL\" : \"landfall(km)\",\n",
    "    \"USA_SSHS\" : \"storm_category\",\n",
    "    \"USA_EYE\" : \"eye_diameter\",\n",
    "    \"USA_SEAHGT\" : \"sea_height(ft)\",\n",
    "    \"STORM_SPEED\" : \"storm_speed(knots)\",\n",
    "    \"STORM_DIR\" : \"storm_direction(degrees)\"\n",
    "    }, inplace = True)\n",
    "atlantic.columns = atlantic.columns.str.lower()\n",
    "atlantic.drop(index = 0, inplace = True)\n",
    "atlantic.reset_index(drop = True, inplace = True)"
   ]
  },
  {
   "cell_type": "code",
   "execution_count": 5,
   "metadata": {},
   "outputs": [],
   "source": [
    "atlantic['landfall(km)'] = atlantic['landfall(km)'].map(float)"
   ]
  },
  {
   "cell_type": "code",
   "execution_count": 6,
   "metadata": {},
   "outputs": [],
   "source": [
    "atlantic = atlantic[atlantic['landfall(km)'] == 0]"
   ]
  },
  {
   "cell_type": "code",
   "execution_count": 7,
   "metadata": {},
   "outputs": [],
   "source": [
    "atlantic.to_csv('../data/hurricanes_east_coast_landfall.csv', index = False)\n",
    "df = pd.read_csv('../data/hurricanes_east_coast_landfall.csv')"
   ]
  },
  {
   "cell_type": "code",
   "execution_count": 8,
   "metadata": {},
   "outputs": [
    {
     "name": "stdout",
     "output_type": "stream",
     "text": [
      "<class 'pandas.core.frame.DataFrame'>\n",
      "RangeIndex: 14214 entries, 0 to 14213\n",
      "Data columns (total 24 columns):\n",
      " #   Column                    Non-Null Count  Dtype  \n",
      "---  ------                    --------------  -----  \n",
      " 0   storm_id                  14214 non-null  object \n",
      " 1   year                      14214 non-null  int64  \n",
      " 2   number                    14214 non-null  float64\n",
      " 3   name                      14214 non-null  object \n",
      " 4   iso_time                  14214 non-null  object \n",
      " 5   nature                    14214 non-null  object \n",
      " 6   latitude                  14214 non-null  float64\n",
      " 7   longitude                 14214 non-null  float64\n",
      " 8   wmo_wind(knots)           6639 non-null   float64\n",
      " 9   wmo_pressure(mb)          2800 non-null   float64\n",
      " 10  wmo_agency                6654 non-null   object \n",
      " 11  dist2land(km)             14214 non-null  int64  \n",
      " 12  landfall(km)              14214 non-null  float64\n",
      " 13  usa_lat                   12918 non-null  float64\n",
      " 14  usa_lon                   12918 non-null  float64\n",
      " 15  usa_record                801 non-null    object \n",
      " 16  usa_status                12961 non-null  object \n",
      " 17  usa_wind                  12846 non-null  float64\n",
      " 18  usa_pres                  5273 non-null   float64\n",
      " 19  storm_category            14077 non-null  float64\n",
      " 20  eye_diameter              5 non-null      float64\n",
      " 21  sea_height(ft)            450 non-null    float64\n",
      " 22  storm_speed(knots)        14214 non-null  float64\n",
      " 23  storm_direction(degrees)  14214 non-null  float64\n",
      "dtypes: float64(15), int64(2), object(7)\n",
      "memory usage: 2.6+ MB\n"
     ]
    }
   ],
   "source": [
    "df.info()"
   ]
  },
  {
   "cell_type": "code",
   "execution_count": 9,
   "metadata": {},
   "outputs": [
    {
     "data": {
      "text/plain": [
       "(14214, 24)"
      ]
     },
     "execution_count": 9,
     "metadata": {},
     "output_type": "execute_result"
    }
   ],
   "source": [
    "df.shape"
   ]
  },
  {
   "cell_type": "code",
   "execution_count": null,
   "metadata": {},
   "outputs": [],
   "source": []
  },
  {
   "cell_type": "code",
   "execution_count": 10,
   "metadata": {},
   "outputs": [],
   "source": [
    "df.drop(columns = ['usa_record', 'eye_diameter'], inplace = True)"
   ]
  },
  {
   "cell_type": "code",
   "execution_count": 11,
   "metadata": {},
   "outputs": [],
   "source": [
    "df.drop(columns = 'eye_diameter', inplace = True)"
   ]
  },
  {
   "cell_type": "code",
   "execution_count": 12,
   "metadata": {},
   "outputs": [
    {
     "data": {
      "text/plain": [
       "(14214, 22)"
      ]
     },
     "execution_count": 12,
     "metadata": {},
     "output_type": "execute_result"
    }
   ],
   "source": [
    "df.shape"
   ]
  },
  {
   "cell_type": "code",
   "execution_count": 13,
   "metadata": {},
   "outputs": [],
   "source": [
    "#from geopy.geocoders import Nominatim"
   ]
  },
  {
   "cell_type": "code",
   "execution_count": 14,
   "metadata": {},
   "outputs": [],
   "source": [
    "# locator = Nominatim(user_agent = 'beta_dsi12')\n",
    "# coordinates = (28.1667, -96.8)\n",
    "# location = locator.reverse(coordinates)\n",
    "# location.raw"
   ]
  },
  {
   "cell_type": "code",
   "execution_count": 15,
   "metadata": {},
   "outputs": [],
   "source": [
    "# def get_country(lat_lon_tup):\n",
    "#     location = locator.reverse(lat_lon_tup)\n",
    "#     location_dict = location.raw\n",
    "#     return location_dict['address']['country_code']"
   ]
  },
  {
   "cell_type": "code",
   "execution_count": 16,
   "metadata": {},
   "outputs": [],
   "source": [
    "# def get_state(latitude, longitude):\n",
    "#     coordinates = (latitude, longitude)\n",
    "#     location = locator.reverse(coordinates)\n",
    "#     location_dict = location.raw\n",
    "#     return location_dict['address']['state']"
   ]
  },
  {
   "cell_type": "code",
   "execution_count": 17,
   "metadata": {},
   "outputs": [],
   "source": [
    "# def get_county(latitude, longitude):\n",
    "#     coordinates = (latitude, longitude)\n",
    "#     location = locator.reverse(coordinates)\n",
    "#     location_dict = location.raw\n",
    "#     return location_dict['address']['county']"
   ]
  },
  {
   "cell_type": "code",
   "execution_count": 18,
   "metadata": {},
   "outputs": [],
   "source": [
    "# get_country(28.1667, -96.8)"
   ]
  },
  {
   "cell_type": "code",
   "execution_count": 19,
   "metadata": {},
   "outputs": [],
   "source": [
    "# get_state(28.1667, -96.8)"
   ]
  },
  {
   "cell_type": "code",
   "execution_count": 20,
   "metadata": {},
   "outputs": [],
   "source": [
    "# get_county(28.1667, -96.8)"
   ]
  },
  {
   "cell_type": "code",
   "execution_count": 21,
   "metadata": {},
   "outputs": [],
   "source": [
    "df['lat_lon_tuple'] = list(df[['latitude', 'longitude']].itertuples(index = False, name = None))"
   ]
  },
  {
   "cell_type": "code",
   "execution_count": 22,
   "metadata": {},
   "outputs": [],
   "source": [
    "import matplotlib.pyplot as plt"
   ]
  },
  {
   "cell_type": "code",
   "execution_count": 23,
   "metadata": {},
   "outputs": [
    {
     "data": {
      "image/png": "[encoded data removed]",
      "text/plain": [
       "<Figure size 1080x720 with 1 Axes>"
      ]
     },
     "metadata": {
      "needs_background": "light"
     },
     "output_type": "display_data"
    }
   ],
   "source": [
    "plt.figure(figsize= (15,10))\n",
    "plt.scatter(x = df[\"longitude\"],\n",
    "           y = df[\"latitude\"],\n",
    "           s = 0.5);"
   ]
  },
  {
   "cell_type": "code",
   "execution_count": 36,
   "metadata": {},
   "outputs": [],
   "source": [
    "df['landfall(km)'] = df['landfall(km)'].map(float)\n",
    "df[\"longitude\"] = df[\"longitude\"].map(float)\n",
    "df[\"latitude\"] = df[\"latitude\"].map(float)\n",
    "df = df[df['landfall(km)'] == 0]\n",
    "df = df[df['longitude'] < -65]\n",
    "df = df[df['longitude'] > -110]\n",
    "df = df[df[\"latitude\"] < 50]\n",
    "df = df[df[\"latitude\"] > 23.5]"
   ]
  },
  {
   "cell_type": "code",
   "execution_count": 37,
   "metadata": {},
   "outputs": [
    {
     "data": {
      "text/plain": [
       "(9213, 23)"
      ]
     },
     "execution_count": 37,
     "metadata": {},
     "output_type": "execute_result"
    }
   ],
   "source": [
    "df.shape"
   ]
  },
  {
   "cell_type": "code",
   "execution_count": 38,
   "metadata": {},
   "outputs": [],
   "source": [
    "def state_column(df1, df2, col1, new_column = None):\n",
    "    # empty list\n",
    "    location_dict = {}\n",
    "    # iterate through hurricane points\n",
    "    for point_index, point in df1[\"geometry\"].iteritems():\n",
    "        # iterate through our location dataframe\n",
    "        for index, location in df2[\"geometry\"].iteritems():\n",
    "            if point.within(location) == True:\n",
    "                location_dict[point_index] = df2[col1][index]\n",
    "#     df1[new_column] = location_list       \n",
    "    return location_dict"
   ]
  },
  {
   "cell_type": "code",
   "execution_count": null,
   "metadata": {},
   "outputs": [],
   "source": [
    "usa_state_index_dict = state_column()"
   ]
  },
  {
   "cell_type": "markdown",
   "metadata": {},
   "source": [
    "## Read-In County Names"
   ]
  },
  {
   "cell_type": "code",
   "execution_count": 27,
   "metadata": {},
   "outputs": [],
   "source": [
    "# file = open('../../../../../../Keys/gm_key', 'r')\n",
    "# key = file.read()"
   ]
  },
  {
   "cell_type": "code",
   "execution_count": null,
   "metadata": {},
   "outputs": [],
   "source": [
    "# gmaps = googlemaps.Client(key = key)"
   ]
  },
  {
   "cell_type": "code",
   "execution_count": null,
   "metadata": {},
   "outputs": [],
   "source": [
    "# counties_list = []\n",
    "\n",
    "# for coordinates in df['lat_lon_tuple']:\n",
    "#     reverse_geocode_result = gmaps.reverse_geocode(, result_type = 'administrative_area_level_2')\n",
    "    "
   ]
  },
  {
   "cell_type": "code",
   "execution_count": null,
   "metadata": {},
   "outputs": [],
   "source": [
    "# reverse_geocode_result[0]['address_components'][0]['long_name']"
   ]
  },
  {
   "cell_type": "code",
   "execution_count": null,
   "metadata": {},
   "outputs": [],
   "source": [
    "# reverse"
   ]
  },
  {
   "cell_type": "markdown",
   "metadata": {},
   "source": [
    "## Geopandas"
   ]
  },
  {
   "cell_type": "code",
   "execution_count": 30,
   "metadata": {},
   "outputs": [
    {
     "data": {
      "text/html": [
       "<div>\n",
       "<style scoped>\n",
       "    .dataframe tbody tr th:only-of-type {\n",
       "        vertical-align: middle;\n",
       "    }\n",
       "\n",
       "    .dataframe tbody tr th {\n",
       "        vertical-align: top;\n",
       "    }\n",
       "\n",
       "    .dataframe thead th {\n",
       "        text-align: right;\n",
       "    }\n",
       "</style>\n",
       "<table border=\"1\" class=\"dataframe\">\n",
       "  <thead>\n",
       "    <tr style=\"text-align: right;\">\n",
       "      <th></th>\n",
       "      <th>STATEFP</th>\n",
       "      <th>COUNTYFP</th>\n",
       "      <th>COUNTYNS</th>\n",
       "      <th>AFFGEOID</th>\n",
       "      <th>GEOID</th>\n",
       "      <th>NAME</th>\n",
       "      <th>LSAD</th>\n",
       "      <th>ALAND</th>\n",
       "      <th>AWATER</th>\n",
       "      <th>geometry</th>\n",
       "    </tr>\n",
       "  </thead>\n",
       "  <tbody>\n",
       "    <tr>\n",
       "      <th>0</th>\n",
       "      <td>37</td>\n",
       "      <td>017</td>\n",
       "      <td>01026336</td>\n",
       "      <td>0500000US37017</td>\n",
       "      <td>37017</td>\n",
       "      <td>Bladen</td>\n",
       "      <td>06</td>\n",
       "      <td>2265887723</td>\n",
       "      <td>33010866</td>\n",
       "      <td>POLYGON ((-78.90200 34.83527, -78.79960 34.850...</td>\n",
       "    </tr>\n",
       "    <tr>\n",
       "      <th>1</th>\n",
       "      <td>37</td>\n",
       "      <td>167</td>\n",
       "      <td>01025844</td>\n",
       "      <td>0500000US37167</td>\n",
       "      <td>37167</td>\n",
       "      <td>Stanly</td>\n",
       "      <td>06</td>\n",
       "      <td>1023370459</td>\n",
       "      <td>25242751</td>\n",
       "      <td>POLYGON ((-80.49737 35.20210, -80.29542 35.502...</td>\n",
       "    </tr>\n",
       "    <tr>\n",
       "      <th>2</th>\n",
       "      <td>39</td>\n",
       "      <td>153</td>\n",
       "      <td>01074088</td>\n",
       "      <td>0500000US39153</td>\n",
       "      <td>39153</td>\n",
       "      <td>Summit</td>\n",
       "      <td>06</td>\n",
       "      <td>1069181981</td>\n",
       "      <td>18958267</td>\n",
       "      <td>POLYGON ((-81.68699 41.13596, -81.68495 41.277...</td>\n",
       "    </tr>\n",
       "    <tr>\n",
       "      <th>3</th>\n",
       "      <td>42</td>\n",
       "      <td>113</td>\n",
       "      <td>01213687</td>\n",
       "      <td>0500000US42113</td>\n",
       "      <td>42113</td>\n",
       "      <td>Sullivan</td>\n",
       "      <td>06</td>\n",
       "      <td>1165338428</td>\n",
       "      <td>6617028</td>\n",
       "      <td>POLYGON ((-76.81373 41.59003, -76.22014 41.541...</td>\n",
       "    </tr>\n",
       "    <tr>\n",
       "      <th>4</th>\n",
       "      <td>48</td>\n",
       "      <td>459</td>\n",
       "      <td>01384015</td>\n",
       "      <td>0500000US48459</td>\n",
       "      <td>48459</td>\n",
       "      <td>Upshur</td>\n",
       "      <td>06</td>\n",
       "      <td>1509910100</td>\n",
       "      <td>24878888</td>\n",
       "      <td>POLYGON ((-95.15274 32.66095, -95.15211 32.902...</td>\n",
       "    </tr>\n",
       "  </tbody>\n",
       "</table>\n",
       "</div>"
      ],
      "text/plain": [
       "  STATEFP COUNTYFP  COUNTYNS        AFFGEOID  GEOID      NAME LSAD  \\\n",
       "0      37      017  01026336  0500000US37017  37017    Bladen   06   \n",
       "1      37      167  01025844  0500000US37167  37167    Stanly   06   \n",
       "2      39      153  01074088  0500000US39153  39153    Summit   06   \n",
       "3      42      113  01213687  0500000US42113  42113  Sullivan   06   \n",
       "4      48      459  01384015  0500000US48459  48459    Upshur   06   \n",
       "\n",
       "        ALAND    AWATER                                           geometry  \n",
       "0  2265887723  33010866  POLYGON ((-78.90200 34.83527, -78.79960 34.850...  \n",
       "1  1023370459  25242751  POLYGON ((-80.49737 35.20210, -80.29542 35.502...  \n",
       "2  1069181981  18958267  POLYGON ((-81.68699 41.13596, -81.68495 41.277...  \n",
       "3  1165338428   6617028  POLYGON ((-76.81373 41.59003, -76.22014 41.541...  \n",
       "4  1509910100  24878888  POLYGON ((-95.15274 32.66095, -95.15211 32.902...  "
      ]
     },
     "execution_count": 30,
     "metadata": {},
     "output_type": "execute_result"
    }
   ],
   "source": [
    "usa_counties = gpd.read_file('../maps/cb_2018_us_county_20m/cb_2018_us_county_20m.shp')\n",
    "usa_counties.head()"
   ]
  },
  {
   "cell_type": "code",
   "execution_count": 32,
   "metadata": {},
   "outputs": [
    {
     "data": {
      "text/plain": [
       "(3220, 10)"
      ]
     },
     "execution_count": 32,
     "metadata": {},
     "output_type": "execute_result"
    }
   ],
   "source": []
  },
  {
   "cell_type": "code",
   "execution_count": null,
   "metadata": {},
   "outputs": [],
   "source": []
  }
 ],
 "metadata": {
  "kernelspec": {
   "display_name": "Python 3",
   "language": "python",
   "name": "python3"
  },
  "language_info": {
   "codemirror_mode": {
    "name": "ipython",
    "version": 3
   },
   "file_extension": ".py",
   "mimetype": "text/x-python",
   "name": "python",
   "nbconvert_exporter": "python",
   "pygments_lexer": "ipython3",
   "version": "3.7.6"
  }
 },
 "nbformat": 4,
 "nbformat_minor": 4
}
