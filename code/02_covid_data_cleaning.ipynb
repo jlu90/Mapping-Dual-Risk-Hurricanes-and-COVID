{
 "cells": [
  {
   "cell_type": "markdown",
   "metadata": {},
   "source": [
    "# Data Cleaning: Current COVID-19 Data"
   ]
  },
  {
   "cell_type": "markdown",
   "metadata": {},
   "source": [
    "## Imports"
   ]
  },
  {
   "cell_type": "code",
   "execution_count": 1,
   "metadata": {},
   "outputs": [],
   "source": [
    "import pandas as pd\n",
    "import numpy as np\n",
    "import matplotlib.pyplot as plt\n",
    "import seaborn as sns\n",
    "from datetime import timedelta\n",
    "\n",
    "pd.set_option(\"display.max_columns\", None)\n",
    "RANDOM_STATE = 42"
   ]
  },
  {
   "cell_type": "markdown",
   "metadata": {},
   "source": [
    "## Read-In COVID-19 Data\n",
    "Source: [New York Times COVID-19 Data Hub](https://github.com/nytimes/covid-19-data)\n",
    "\n",
    "Data for COVID-19 by U.S. County was last updated on August 11, 2020."
   ]
  },
  {
   "cell_type": "code",
   "execution_count": 2,
   "metadata": {},
   "outputs": [
    {
     "data": {
      "text/html": [
       "<div>\n",
       "<style scoped>\n",
       "    .dataframe tbody tr th:only-of-type {\n",
       "        vertical-align: middle;\n",
       "    }\n",
       "\n",
       "    .dataframe tbody tr th {\n",
       "        vertical-align: top;\n",
       "    }\n",
       "\n",
       "    .dataframe thead th {\n",
       "        text-align: right;\n",
       "    }\n",
       "</style>\n",
       "<table border=\"1\" class=\"dataframe\">\n",
       "  <thead>\n",
       "    <tr style=\"text-align: right;\">\n",
       "      <th></th>\n",
       "      <th>date</th>\n",
       "      <th>county</th>\n",
       "      <th>state</th>\n",
       "      <th>fips</th>\n",
       "      <th>cases</th>\n",
       "      <th>deaths</th>\n",
       "    </tr>\n",
       "  </thead>\n",
       "  <tbody>\n",
       "    <tr>\n",
       "      <th>0</th>\n",
       "      <td>2020-01-21</td>\n",
       "      <td>Snohomish</td>\n",
       "      <td>Washington</td>\n",
       "      <td>53061.0</td>\n",
       "      <td>1</td>\n",
       "      <td>0</td>\n",
       "    </tr>\n",
       "    <tr>\n",
       "      <th>1</th>\n",
       "      <td>2020-01-22</td>\n",
       "      <td>Snohomish</td>\n",
       "      <td>Washington</td>\n",
       "      <td>53061.0</td>\n",
       "      <td>1</td>\n",
       "      <td>0</td>\n",
       "    </tr>\n",
       "  </tbody>\n",
       "</table>\n",
       "</div>"
      ],
      "text/plain": [
       "         date     county       state     fips  cases  deaths\n",
       "0  2020-01-21  Snohomish  Washington  53061.0      1       0\n",
       "1  2020-01-22  Snohomish  Washington  53061.0      1       0"
      ]
     },
     "execution_count": 2,
     "metadata": {},
     "output_type": "execute_result"
    }
   ],
   "source": [
    "covid_df = pd.read_csv('../data/covid_nyt_data.csv')\n",
    "covid_df.head(2)"
   ]
  },
  {
   "cell_type": "markdown",
   "metadata": {},
   "source": [
    "## Read-In 2019 Population Data for States Impacted by Tropical Storms\n",
    "Source: [United States Census Bureau](https://www.census.gov/data/tables/time-series/demo/popest/2010s-counties-detail.html)\n",
    "\n",
    "By knowing the population for each county in our the data frame, it allowed us to \"standardize\" COVID-19 case and death counts. "
   ]
  },
  {
   "cell_type": "markdown",
   "metadata": {},
   "source": [
    "#### Population Data"
   ]
  },
  {
   "cell_type": "code",
   "execution_count": 3,
   "metadata": {},
   "outputs": [],
   "source": [
    "alabama = pd.read_csv('../data/USA_counties_pop/cc-est2019-agesex-01.csv')\n",
    "dc = pd.read_csv('../data/USA_counties_pop/cc-est2019-agesex-11.csv')\n",
    "nebraska = pd.read_csv('../data/USA_counties_pop/cc-est2019-agesex-31.csv')\n",
    "wisconsin = pd.read_csv('../data/USA_counties_pop/cc-est2019-agesex-55.csv')\n",
    "iowa = pd.read_csv('../data/USA_counties_pop/cc-est2019-agesex-19.csv')\n",
    "rhode_island = pd.read_csv('../data/USA_counties_pop/cc-est2019-agesex-44.csv')\n",
    "vermont = pd.read_csv('../data/USA_counties_pop/cc-est2019-agesex-50.csv')\n",
    "delaware = pd.read_csv('../data/USA_counties_pop/cc-est2019-agesex-10.csv')\n",
    "connecticut = pd.read_csv('../data/USA_counties_pop/cc-est2019-agesex-09.csv')\n",
    "kansas = pd.read_csv('../data/USA_counties_pop/cc-est2019-agesex-20.csv')\n",
    "massachusetts = pd.read_csv('../data/USA_counties_pop/cc-est2019-agesex-25.csv')\n",
    "new_hampshire = pd.read_csv('../data/USA_counties_pop/cc-est2019-agesex-33.csv')\n",
    "new_jersey = pd.read_csv('../data/USA_counties_pop/cc-est2019-agesex-34.csv')\n",
    "michigan = pd.read_csv('../data/USA_counties_pop/cc-est2019-agesex-26.csv')\n",
    "west_virginia = pd.read_csv('../data/USA_counties_pop/cc-est2019-agesex-54.csv')\n",
    "maryland = pd.read_csv('../data/USA_counties_pop/cc-est2019-agesex-24.csv')\n",
    "ohio = pd.read_csv('../data/USA_counties_pop/cc-est2019-agesex-39.csv')\n",
    "illinois = pd.read_csv('../data/USA_counties_pop/cc-est2019-agesex-17.csv')\n",
    "oklahoma = pd.read_csv('../data/USA_counties_pop/cc-est2019-agesex-40.csv')\n",
    "indiana = pd.read_csv('../data/USA_counties_pop/cc-est2019-agesex-18.csv')\n",
    "missouri = pd.read_csv('../data/USA_counties_pop/cc-est2019-agesex-29.csv')\n",
    "maine = pd.read_csv('../data/USA_counties_pop/cc-est2019-agesex-23.csv')\n",
    "new_york = pd.read_csv('../data/USA_counties_pop/cc-est2019-agesex-36.csv')\n",
    "pennsylvania = pd.read_csv('../data/USA_counties_pop/cc-est2019-agesex-42.csv')\n",
    "kentucky = pd.read_csv('../data/USA_counties_pop/cc-est2019-agesex-21.csv')\n",
    "tennessee = pd.read_csv('../data/USA_counties_pop/cc-est2019-agesex-47.csv')\n",
    "arkansas = pd.read_csv('../data/USA_counties_pop/cc-est2019-agesex-05.csv')\n",
    "virginia = pd.read_csv('../data/USA_counties_pop/cc-est2019-agesex-51.csv')\n",
    "south_carolina = pd.read_csv('../data/USA_counties_pop/cc-est2019-agesex-45.csv')\n",
    "mississippi = pd.read_csv('../data/USA_counties_pop/cc-est2019-agesex-28.csv')\n",
    "north_carolina = pd.read_csv('../data/USA_counties_pop/cc-est2019-agesex-37.csv')\n",
    "louisiana = pd.read_csv('../data/USA_counties_pop/cc-est2019-agesex-22.csv')\n",
    "georgia = pd.read_csv('../data/USA_counties_pop/cc-est2019-agesex-13.csv')\n",
    "texas = pd.read_csv('../data/USA_counties_pop/cc-est2019-agesex-48.csv')\n",
    "florida = pd.read_csv('../data/USA_counties_pop/cc-est2019-agesex-12.csv')\n",
    "new_mexico = pd.read_csv('../data/USA_counties_pop/cc-est2019-agesex-35.csv', encoding='ISO-8859-1')"
   ]
  },
  {
   "cell_type": "markdown",
   "metadata": {},
   "source": [
    "#### Concatenate Data Frames"
   ]
  },
  {
   "cell_type": "code",
   "execution_count": 4,
   "metadata": {},
   "outputs": [],
   "source": [
    "county_pop = pd.concat([alabama, dc, nebraska, wisconsin, iowa, rhode_island, vermont, delaware, connecticut, kansas, massachusetts, new_hampshire, new_jersey, michigan, west_virginia, maryland, ohio, illinois, oklahoma, indiana, missouri, maine, new_york, pennsylvania, kentucky, tennessee, arkansas, south_carolina, mississippi, north_carolina, louisiana, georgia, texas, florida, new_mexico, virginia])"
   ]
  },
  {
   "cell_type": "code",
   "execution_count": 5,
   "metadata": {},
   "outputs": [],
   "source": [
    "county_pop = county_pop[county_pop['YEAR'] == 12][['STNAME', 'CTYNAME', 'POPESTIMATE']]"
   ]
  },
  {
   "cell_type": "code",
   "execution_count": 6,
   "metadata": {},
   "outputs": [
    {
     "data": {
      "text/html": [
       "<div>\n",
       "<style scoped>\n",
       "    .dataframe tbody tr th:only-of-type {\n",
       "        vertical-align: middle;\n",
       "    }\n",
       "\n",
       "    .dataframe tbody tr th {\n",
       "        vertical-align: top;\n",
       "    }\n",
       "\n",
       "    .dataframe thead th {\n",
       "        text-align: right;\n",
       "    }\n",
       "</style>\n",
       "<table border=\"1\" class=\"dataframe\">\n",
       "  <thead>\n",
       "    <tr style=\"text-align: right;\">\n",
       "      <th></th>\n",
       "      <th>STNAME</th>\n",
       "      <th>CTYNAME</th>\n",
       "      <th>POPESTIMATE</th>\n",
       "    </tr>\n",
       "  </thead>\n",
       "  <tbody>\n",
       "    <tr>\n",
       "      <th>11</th>\n",
       "      <td>Alabama</td>\n",
       "      <td>Autauga County</td>\n",
       "      <td>55869</td>\n",
       "    </tr>\n",
       "  </tbody>\n",
       "</table>\n",
       "</div>"
      ],
      "text/plain": [
       "     STNAME         CTYNAME  POPESTIMATE\n",
       "11  Alabama  Autauga County        55869"
      ]
     },
     "execution_count": 6,
     "metadata": {},
     "output_type": "execute_result"
    }
   ],
   "source": [
    "county_pop.head(1)"
   ]
  },
  {
   "cell_type": "markdown",
   "metadata": {},
   "source": [
    "#### Clean County Names"
   ]
  },
  {
   "cell_type": "code",
   "execution_count": 7,
   "metadata": {},
   "outputs": [],
   "source": [
    "county_pop['CTYNAME'] = county_pop['CTYNAME'].map(lambda x: x.replace('County', '').strip(' '))\n",
    "county_pop['CTYNAME'] = county_pop['CTYNAME'].map(lambda x: x.replace('Parish', '').strip(' '))"
   ]
  },
  {
   "cell_type": "markdown",
   "metadata": {},
   "source": [
    "## Merge COVID-19 Data with 2019 Population Data\n",
    "***NOTE:*** Only rows that have a history of tropical storms will have population data. This is because we will only be comparing COVID-19 risk in counties that have historical tropical storm data."
   ]
  },
  {
   "cell_type": "code",
   "execution_count": 8,
   "metadata": {},
   "outputs": [],
   "source": [
    "covid_df = pd.merge(left = covid_df, right = county_pop, how = 'left', left_on = ['state', 'county'], right_on = ['STNAME', 'CTYNAME'])"
   ]
  },
  {
   "cell_type": "code",
   "execution_count": 9,
   "metadata": {},
   "outputs": [
    {
     "data": {
      "text/html": [
       "<div>\n",
       "<style scoped>\n",
       "    .dataframe tbody tr th:only-of-type {\n",
       "        vertical-align: middle;\n",
       "    }\n",
       "\n",
       "    .dataframe tbody tr th {\n",
       "        vertical-align: top;\n",
       "    }\n",
       "\n",
       "    .dataframe thead th {\n",
       "        text-align: right;\n",
       "    }\n",
       "</style>\n",
       "<table border=\"1\" class=\"dataframe\">\n",
       "  <thead>\n",
       "    <tr style=\"text-align: right;\">\n",
       "      <th></th>\n",
       "      <th>date</th>\n",
       "      <th>county</th>\n",
       "      <th>state</th>\n",
       "      <th>fips</th>\n",
       "      <th>cases</th>\n",
       "      <th>deaths</th>\n",
       "      <th>STNAME</th>\n",
       "      <th>CTYNAME</th>\n",
       "      <th>POPESTIMATE</th>\n",
       "    </tr>\n",
       "  </thead>\n",
       "  <tbody>\n",
       "    <tr>\n",
       "      <th>0</th>\n",
       "      <td>2020-01-21</td>\n",
       "      <td>Snohomish</td>\n",
       "      <td>Washington</td>\n",
       "      <td>53061.0</td>\n",
       "      <td>1</td>\n",
       "      <td>0</td>\n",
       "      <td>NaN</td>\n",
       "      <td>NaN</td>\n",
       "      <td>NaN</td>\n",
       "    </tr>\n",
       "  </tbody>\n",
       "</table>\n",
       "</div>"
      ],
      "text/plain": [
       "         date     county       state     fips  cases  deaths STNAME CTYNAME  \\\n",
       "0  2020-01-21  Snohomish  Washington  53061.0      1       0    NaN     NaN   \n",
       "\n",
       "   POPESTIMATE  \n",
       "0          NaN  "
      ]
     },
     "execution_count": 9,
     "metadata": {},
     "output_type": "execute_result"
    }
   ],
   "source": [
    "covid_df.head(1)"
   ]
  },
  {
   "cell_type": "code",
   "execution_count": 10,
   "metadata": {},
   "outputs": [],
   "source": [
    "# Drop Unnecessary Columns\n",
    "\n",
    "covid_df = covid_df.drop(columns = ['STNAME', 'CTYNAME'])"
   ]
  },
  {
   "cell_type": "code",
   "execution_count": 11,
   "metadata": {},
   "outputs": [],
   "source": [
    "# Rename population column\n",
    "\n",
    "covid_df = covid_df.rename(columns = {'POPESTIMATE': '2019_population'})"
   ]
  },
  {
   "cell_type": "code",
   "execution_count": 12,
   "metadata": {},
   "outputs": [
    {
     "data": {
      "text/html": [
       "<div>\n",
       "<style scoped>\n",
       "    .dataframe tbody tr th:only-of-type {\n",
       "        vertical-align: middle;\n",
       "    }\n",
       "\n",
       "    .dataframe tbody tr th {\n",
       "        vertical-align: top;\n",
       "    }\n",
       "\n",
       "    .dataframe thead th {\n",
       "        text-align: right;\n",
       "    }\n",
       "</style>\n",
       "<table border=\"1\" class=\"dataframe\">\n",
       "  <thead>\n",
       "    <tr style=\"text-align: right;\">\n",
       "      <th></th>\n",
       "      <th>date</th>\n",
       "      <th>county</th>\n",
       "      <th>state</th>\n",
       "      <th>fips</th>\n",
       "      <th>cases</th>\n",
       "      <th>deaths</th>\n",
       "      <th>2019_population</th>\n",
       "    </tr>\n",
       "  </thead>\n",
       "  <tbody>\n",
       "    <tr>\n",
       "      <th>0</th>\n",
       "      <td>2020-01-21</td>\n",
       "      <td>Snohomish</td>\n",
       "      <td>Washington</td>\n",
       "      <td>53061.0</td>\n",
       "      <td>1</td>\n",
       "      <td>0</td>\n",
       "      <td>NaN</td>\n",
       "    </tr>\n",
       "    <tr>\n",
       "      <th>1</th>\n",
       "      <td>2020-01-22</td>\n",
       "      <td>Snohomish</td>\n",
       "      <td>Washington</td>\n",
       "      <td>53061.0</td>\n",
       "      <td>1</td>\n",
       "      <td>0</td>\n",
       "      <td>NaN</td>\n",
       "    </tr>\n",
       "  </tbody>\n",
       "</table>\n",
       "</div>"
      ],
      "text/plain": [
       "         date     county       state     fips  cases  deaths  2019_population\n",
       "0  2020-01-21  Snohomish  Washington  53061.0      1       0              NaN\n",
       "1  2020-01-22  Snohomish  Washington  53061.0      1       0              NaN"
      ]
     },
     "execution_count": 12,
     "metadata": {},
     "output_type": "execute_result"
    }
   ],
   "source": [
    "covid_df.head(2)"
   ]
  },
  {
   "cell_type": "markdown",
   "metadata": {},
   "source": [
    "## Create a Column to \"Standardize\" Case Counts\n",
    "According to our [research](https://www.fastcompany.com/90529280/what-is-a-covid-19-red-zone-do-you-live-in-one-heres-how-to-find-out), when comparing data by region, cases are represented as number of cases per 100,000 people."
   ]
  },
  {
   "cell_type": "code",
   "execution_count": 13,
   "metadata": {},
   "outputs": [],
   "source": [
    "covid_df['cases_per_100000'] = round((covid_df['cases']/covid_df['2019_population']) * 100000, 1)"
   ]
  },
  {
   "cell_type": "code",
   "execution_count": 14,
   "metadata": {},
   "outputs": [
    {
     "data": {
      "text/html": [
       "<div>\n",
       "<style scoped>\n",
       "    .dataframe tbody tr th:only-of-type {\n",
       "        vertical-align: middle;\n",
       "    }\n",
       "\n",
       "    .dataframe tbody tr th {\n",
       "        vertical-align: top;\n",
       "    }\n",
       "\n",
       "    .dataframe thead th {\n",
       "        text-align: right;\n",
       "    }\n",
       "</style>\n",
       "<table border=\"1\" class=\"dataframe\">\n",
       "  <thead>\n",
       "    <tr style=\"text-align: right;\">\n",
       "      <th></th>\n",
       "      <th>date</th>\n",
       "      <th>county</th>\n",
       "      <th>state</th>\n",
       "      <th>fips</th>\n",
       "      <th>cases</th>\n",
       "      <th>deaths</th>\n",
       "      <th>2019_population</th>\n",
       "      <th>cases_per_100000</th>\n",
       "    </tr>\n",
       "  </thead>\n",
       "  <tbody>\n",
       "    <tr>\n",
       "      <th>0</th>\n",
       "      <td>2020-01-21</td>\n",
       "      <td>Snohomish</td>\n",
       "      <td>Washington</td>\n",
       "      <td>53061.0</td>\n",
       "      <td>1</td>\n",
       "      <td>0</td>\n",
       "      <td>NaN</td>\n",
       "      <td>NaN</td>\n",
       "    </tr>\n",
       "    <tr>\n",
       "      <th>1</th>\n",
       "      <td>2020-01-22</td>\n",
       "      <td>Snohomish</td>\n",
       "      <td>Washington</td>\n",
       "      <td>53061.0</td>\n",
       "      <td>1</td>\n",
       "      <td>0</td>\n",
       "      <td>NaN</td>\n",
       "      <td>NaN</td>\n",
       "    </tr>\n",
       "  </tbody>\n",
       "</table>\n",
       "</div>"
      ],
      "text/plain": [
       "         date     county       state     fips  cases  deaths  2019_population  \\\n",
       "0  2020-01-21  Snohomish  Washington  53061.0      1       0              NaN   \n",
       "1  2020-01-22  Snohomish  Washington  53061.0      1       0              NaN   \n",
       "\n",
       "   cases_per_100000  \n",
       "0               NaN  \n",
       "1               NaN  "
      ]
     },
     "execution_count": 14,
     "metadata": {},
     "output_type": "execute_result"
    }
   ],
   "source": [
    "covid_df.head(2)"
   ]
  },
  {
   "cell_type": "markdown",
   "metadata": {},
   "source": [
    "## Filter Data Frame to Specific Time Frames\n",
    "According to an [article](https://www.fastcompany.com/90529280/what-is-a-covid-19-red-zone-do-you-live-in-one-heres-how-to-find-out) published by Fast Company, the White House defines a COVID-19 \"red zone\" as any state that has experienced 100 or more new cases per 100,000 people in the last week. Therefore, in addition to total number of cases, we will look at the change in cases over the last week."
   ]
  },
  {
   "cell_type": "markdown",
   "metadata": {},
   "source": [
    "### Most Recent Date (August 11, 2020)"
   ]
  },
  {
   "cell_type": "code",
   "execution_count": 15,
   "metadata": {},
   "outputs": [],
   "source": [
    "covid_df['date'] = pd.to_datetime(covid_df['date'])\n",
    "covid_current = covid_df[covid_df['date'] == covid_df['date'].max()].copy()"
   ]
  },
  {
   "cell_type": "code",
   "execution_count": 16,
   "metadata": {},
   "outputs": [
    {
     "data": {
      "text/html": [
       "<div>\n",
       "<style scoped>\n",
       "    .dataframe tbody tr th:only-of-type {\n",
       "        vertical-align: middle;\n",
       "    }\n",
       "\n",
       "    .dataframe tbody tr th {\n",
       "        vertical-align: top;\n",
       "    }\n",
       "\n",
       "    .dataframe thead th {\n",
       "        text-align: right;\n",
       "    }\n",
       "</style>\n",
       "<table border=\"1\" class=\"dataframe\">\n",
       "  <thead>\n",
       "    <tr style=\"text-align: right;\">\n",
       "      <th></th>\n",
       "      <th>date</th>\n",
       "      <th>county</th>\n",
       "      <th>state</th>\n",
       "      <th>fips</th>\n",
       "      <th>cases</th>\n",
       "      <th>deaths</th>\n",
       "      <th>2019_population</th>\n",
       "      <th>cases_per_100000</th>\n",
       "    </tr>\n",
       "  </thead>\n",
       "  <tbody>\n",
       "    <tr>\n",
       "      <th>421390</th>\n",
       "      <td>2020-08-11</td>\n",
       "      <td>Autauga</td>\n",
       "      <td>Alabama</td>\n",
       "      <td>1001.0</td>\n",
       "      <td>1215</td>\n",
       "      <td>23</td>\n",
       "      <td>55869.0</td>\n",
       "      <td>2174.7</td>\n",
       "    </tr>\n",
       "  </tbody>\n",
       "</table>\n",
       "</div>"
      ],
      "text/plain": [
       "             date   county    state    fips  cases  deaths  2019_population  \\\n",
       "421390 2020-08-11  Autauga  Alabama  1001.0   1215      23          55869.0   \n",
       "\n",
       "        cases_per_100000  \n",
       "421390            2174.7  "
      ]
     },
     "execution_count": 16,
     "metadata": {},
     "output_type": "execute_result"
    }
   ],
   "source": [
    "covid_current.head(1)"
   ]
  },
  {
   "cell_type": "markdown",
   "metadata": {},
   "source": [
    "### Data For Previous Week (August 4, 2020)"
   ]
  },
  {
   "cell_type": "code",
   "execution_count": 17,
   "metadata": {},
   "outputs": [],
   "source": [
    "covid_one_week_ago = covid_df[covid_df['date'] == (covid_df['date'].max() - timedelta(7))]\n",
    "covid_one_week_ago = covid_one_week_ago.rename(columns = {'cases':'previous_cases', 'deaths': 'previous_deaths', 'cases_per_100000': 'previous_cases_per_100000'})\n",
    "covid_one_week_ago = covid_one_week_ago[['date', 'county', 'state', 'previous_cases','previous_deaths', 'previous_cases_per_100000']]"
   ]
  },
  {
   "cell_type": "markdown",
   "metadata": {},
   "source": [
    "### Calculate Change in Cases Over the Previous Week"
   ]
  },
  {
   "cell_type": "markdown",
   "metadata": {},
   "source": [
    "#### Merge Data for Previous Week with Most Recent Data"
   ]
  },
  {
   "cell_type": "code",
   "execution_count": 18,
   "metadata": {},
   "outputs": [],
   "source": [
    "covid_current = pd.merge(left = covid_current, right = covid_one_week_ago, how = 'left', on = ['state', 'county'])"
   ]
  },
  {
   "cell_type": "markdown",
   "metadata": {},
   "source": [
    "#### Calculate Change in Cases (Raw)"
   ]
  },
  {
   "cell_type": "code",
   "execution_count": 19,
   "metadata": {},
   "outputs": [],
   "source": [
    "covid_current['change_in_cases'] = covid_current['cases'] - covid_current['previous_cases']"
   ]
  },
  {
   "cell_type": "markdown",
   "metadata": {},
   "source": [
    "#### Calculate Change in Cases per 100,000 people (\"Standardized\")"
   ]
  },
  {
   "cell_type": "code",
   "execution_count": 20,
   "metadata": {},
   "outputs": [],
   "source": [
    "covid_current['change_in_case_ratio'] = covid_current['cases_per_100000'] - covid_current['previous_cases_per_100000']"
   ]
  },
  {
   "cell_type": "markdown",
   "metadata": {},
   "source": [
    "## Filter Data Frame to Only Include States and Counties with a History of Tropical Storms"
   ]
  },
  {
   "cell_type": "code",
   "execution_count": 21,
   "metadata": {},
   "outputs": [],
   "source": [
    "def state_mask(state, df = covid_current):\n",
    "    return df['state'] == state"
   ]
  },
  {
   "cell_type": "code",
   "execution_count": 22,
   "metadata": {},
   "outputs": [],
   "source": [
    "mask1 = state_mask('Alabama')\n",
    "mask2 = state_mask('Florida')\n",
    "mask3 = state_mask('Georgia')\n",
    "mask4 = state_mask('Louisiana')\n",
    "mask5 = state_mask('Mississippi')\n",
    "mask6 = state_mask('Tennessee')\n",
    "mask7 = state_mask('North Carolina')\n",
    "mask8 = state_mask('South Carolina')\n",
    "mask9 = state_mask('Texas')\n",
    "mask10 = state_mask('Connecticut')\n",
    "mask11 = state_mask('District of Columbia')\n",
    "mask12 = state_mask('Delaware')\n",
    "mask13 = state_mask('Massachusetts')\n",
    "mask14 = state_mask('Maryland')\n",
    "mask15 = state_mask('Maine')\n",
    "mask16 = state_mask('New Hampshire')\n",
    "mask17 = state_mask('New Jersey')\n",
    "mask18 = state_mask('New York')\n",
    "mask19 = state_mask('Ohio')\n",
    "mask20 = state_mask('Pennsylvania')\n",
    "mask21 = state_mask('Rhode Island')\n",
    "mask22 = state_mask('Virginia')\n",
    "mask23 = state_mask('Vermont')\n",
    "mask24 = state_mask('West Virginia')\n",
    "mask25 = state_mask('Illinois')\n",
    "mask26 = state_mask('Indiana')\n",
    "mask27 = state_mask('Kentucky')\n",
    "mask28 = state_mask('Missouri')\n",
    "mask29 = state_mask('Nebraska')\n",
    "mask30 = state_mask('New Mexico')\n",
    "mask31 = state_mask('Wisconsin')\n",
    "mask32 = state_mask('Iowa')\n",
    "mask33 = state_mask('Kansas')\n",
    "mask34 = state_mask('Oklahoma')\n",
    "mask35 = state_mask('Michigan')\n",
    "mask36 = state_mask('Arkansas')"
   ]
  },
  {
   "cell_type": "code",
   "execution_count": 23,
   "metadata": {},
   "outputs": [],
   "source": [
    "covid_hurricane_states = covid_current[mask1|mask2|mask3|mask4|mask5|mask6|mask7|mask8| mask9| mask10| mask11| mask12|mask13| mask14| mask15| mask16|mask17|mask18|mask19|mask20|mask21|mask22|mask23|mask24|mask25|mask26|mask27|mask28|mask29|mask30|mask31|mask32|mask33|mask34|mask35|mask36]"
   ]
  },
  {
   "cell_type": "code",
   "execution_count": 24,
   "metadata": {},
   "outputs": [
    {
     "data": {
      "text/plain": [
       "(2521, 14)"
      ]
     },
     "execution_count": 24,
     "metadata": {},
     "output_type": "execute_result"
    }
   ],
   "source": [
    "covid_hurricane_states.shape"
   ]
  },
  {
   "cell_type": "markdown",
   "metadata": {},
   "source": [
    "## Export Data to CSV"
   ]
  },
  {
   "cell_type": "code",
   "execution_count": 25,
   "metadata": {},
   "outputs": [],
   "source": [
    "#covid_hurricane_states.to_csv('../data/covid_hurricane_states.csv', index = False)"
   ]
  }
 ],
 "metadata": {
  "kernelspec": {
   "display_name": "Python 3",
   "language": "python",
   "name": "python3"
  },
  "language_info": {
   "codemirror_mode": {
    "name": "ipython",
    "version": 3
   },
   "file_extension": ".py",
   "mimetype": "text/x-python",
   "name": "python",
   "nbconvert_exporter": "python",
   "pygments_lexer": "ipython3",
   "version": "3.7.6"
  }
 },
 "nbformat": 4,
 "nbformat_minor": 4
}
