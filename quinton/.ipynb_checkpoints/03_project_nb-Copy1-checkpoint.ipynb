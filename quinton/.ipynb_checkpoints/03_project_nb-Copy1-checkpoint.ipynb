{
 "cells": [
  {
   "cell_type": "markdown",
   "metadata": {},
   "source": [
    "# Identifying the Risk of COVID-19 and North Atlantic Hurricanes \n",
    "\n",
    "**Authors**: Jocelyn Lutes, Quinton Lopez, Uriel Eckmann"
   ]
  },
  {
   "cell_type": "markdown",
   "metadata": {},
   "source": [
    "## Problem Statement\n",
    "---\n",
    "The east coast endures more storms yearly than any other area of the country. The warm temperatures of the Atlantic increase the power of hurricanes. That combined with the common patterns of winds moving east to west after being formed in the eastern Atlantic make threats to residents homes, businesses, and way of life every hurricane season. From June 1st to November 30, citizens must remain aware of hazardous weather conditions except this year, an unexpected global pandemic could cause even more worry. The number of confirmed cases have passed 5 million and deaths have reached over 160,000 in the United States. There is no vaccine created and the close proximity of large groups of people significantly increases the chances of becoming infected. Identifying the areas at risk for Covid-19 and other natural disasters can help provide proper guidance for evacuating families and prevent the further spread of Covid-19. \n",
    "\n",
    "In this project, we will use clustering algorithms to attempt to identify clusters based on historical risk for tropical storms and current risk of COVID-19."
   ]
  },
  {
   "cell_type": "markdown",
   "metadata": {},
   "source": [
    "## Executive Summary"
   ]
  },
  {
   "cell_type": "markdown",
   "metadata": {},
   "source": [
    "## Table of Contents\n",
    "---\n",
    "- [Imports](#Imports)\n",
    "- [Read-In Data](#Read-In-Data)\n",
    "- [Data Cleaning](#Data-Cleaning)\n",
    "- [Feature Engineering](#Feature-Engineering)\n",
    "- [Exploratory Data Analysis](#Exploratory-Data-Analysis)\n",
    "- [Model Preparation](#Model-Preparation)\n",
    "- [Modeling](#Modeling)\n",
    "- [Model Selection](#Model-Selection)\n",
    "- [Model Evaluation and Interpretation](#Model-Evaluation-and-Interpretation)\n",
    "- [Conclusion & Recommendation](#Conclusion-&-Recommendations)\n",
    "- [References](#References)"
   ]
  },
  {
   "cell_type": "markdown",
   "metadata": {},
   "source": [
    "## Imports"
   ]
  },
  {
   "cell_type": "code",
   "execution_count": 1,
   "metadata": {},
   "outputs": [
    {
     "ename": "ModuleNotFoundError",
     "evalue": "No module named 'plotly'",
     "output_type": "error",
     "traceback": [
      "\u001b[0;31m---------------------------------------------------------------------------\u001b[0m",
      "\u001b[0;31mModuleNotFoundError\u001b[0m                       Traceback (most recent call last)",
      "\u001b[0;32m<ipython-input-1-73219f07810e>\u001b[0m in \u001b[0;36m<module>\u001b[0;34m\u001b[0m\n\u001b[1;32m      7\u001b[0m \u001b[0;32mfrom\u001b[0m \u001b[0msklearn\u001b[0m\u001b[0;34m.\u001b[0m\u001b[0mcluster\u001b[0m \u001b[0;32mimport\u001b[0m \u001b[0mKMeans\u001b[0m\u001b[0;34m,\u001b[0m \u001b[0mDBSCAN\u001b[0m\u001b[0;34m\u001b[0m\u001b[0;34m\u001b[0m\u001b[0m\n\u001b[1;32m      8\u001b[0m \u001b[0;32mfrom\u001b[0m \u001b[0msklearn\u001b[0m\u001b[0;34m.\u001b[0m\u001b[0mmetrics\u001b[0m \u001b[0;32mimport\u001b[0m \u001b[0msilhouette_score\u001b[0m\u001b[0;34m\u001b[0m\u001b[0;34m\u001b[0m\u001b[0m\n\u001b[0;32m----> 9\u001b[0;31m \u001b[0;32mimport\u001b[0m \u001b[0mplotly\u001b[0m\u001b[0;34m.\u001b[0m\u001b[0mexpress\u001b[0m \u001b[0;32mas\u001b[0m \u001b[0mpx\u001b[0m\u001b[0;34m\u001b[0m\u001b[0;34m\u001b[0m\u001b[0m\n\u001b[0m\u001b[1;32m     10\u001b[0m \u001b[0;32mimport\u001b[0m \u001b[0mplotly\u001b[0m\u001b[0;34m.\u001b[0m\u001b[0mfigure_factory\u001b[0m \u001b[0;32mas\u001b[0m \u001b[0mff\u001b[0m\u001b[0;34m\u001b[0m\u001b[0;34m\u001b[0m\u001b[0m\n\u001b[1;32m     11\u001b[0m \u001b[0;34m\u001b[0m\u001b[0m\n",
      "\u001b[0;31mModuleNotFoundError\u001b[0m: No module named 'plotly'"
     ]
    }
   ],
   "source": [
    "import pandas as pd\n",
    "import numpy as np\n",
    "import matplotlib.pyplot as plt\n",
    "import seaborn as sns\n",
    "import geopandas as gpd\n",
    "from sklearn.preprocessing import StandardScaler\n",
    "from sklearn.cluster import KMeans, DBSCAN\n",
    "from sklearn.metrics import silhouette_score\n",
    "import plotly.express as px\n",
    "import plotly.figure_factory as ff\n",
    "\n",
    "RANDOM_STATE = 42"
   ]
  },
  {
   "cell_type": "markdown",
   "metadata": {},
   "source": [
    "## Read-In Data\n",
    "\n",
    "For this notebook, we will rely on the hurricane data from IBTrACKS, the COVID-19 data from the New York Times, and the aggregate data that we engineered from these two sources."
   ]
  },
  {
   "cell_type": "markdown",
   "metadata": {},
   "source": [
    "### Merge Aggregate Tropical Storms Data with COVID-19 Data"
   ]
  },
  {
   "cell_type": "markdown",
   "metadata": {},
   "source": [
    "#### Read - In Data"
   ]
  },
  {
   "cell_type": "code",
   "execution_count": null,
   "metadata": {},
   "outputs": [],
   "source": [
    "aggregate_storm_data  = pd.read_csv('../data/aggregate_storm_data.csv')\n",
    "covid_hurricane_states = pd.read_csv('../data/covid_hurricane_states.csv')"
   ]
  },
  {
   "cell_type": "code",
   "execution_count": null,
   "metadata": {},
   "outputs": [],
   "source": [
    "aggregate_storm_data.shape"
   ]
  },
  {
   "cell_type": "code",
   "execution_count": null,
   "metadata": {},
   "outputs": [],
   "source": []
  },
  {
   "cell_type": "markdown",
   "metadata": {},
   "source": [
    "#### Merge Data"
   ]
  },
  {
   "cell_type": "code",
   "execution_count": null,
   "metadata": {},
   "outputs": [],
   "source": [
    "hurricanes_and_covid = pd.merge(left = aggregate_storm_data, right = covid_hurricane_states[['state', 'county', 'cases', 'deaths', 'previous_cases', 'previous_deaths','2019_population', 'change_in_case_ratio' ]], how = 'left', on = ['state', 'county'])"
   ]
  },
  {
   "cell_type": "markdown",
   "metadata": {},
   "source": [
    "#### Select Columns"
   ]
  },
  {
   "cell_type": "code",
   "execution_count": null,
   "metadata": {},
   "outputs": [],
   "source": [
    "location_info = ['state', 'county']\n",
    "hurricane_features = ['cat_1_count', 'cat_2_count', 'cat_3_count', 'cat_4_count', 'cat_5_count', 'hurricane_count', 'tropical_storm_count', 'extratropical_system_count', 'tropical_depression_count', 'low_count', 'subtropical_depression_count', 'dissipating_storm_count']\n",
    "covid_features = ['cases', 'deaths', 'previous_cases', 'previous_deaths','2019_population','change_in_case_ratio']\n",
    "\n",
    "features_to_keep = location_info + hurricane_features + covid_features\n",
    "\n",
    "hurricanes_and_covid = hurricanes_and_covid[features_to_keep]"
   ]
  },
  {
   "cell_type": "markdown",
   "metadata": {},
   "source": [
    "#### Rename Columns"
   ]
  },
  {
   "cell_type": "code",
   "execution_count": null,
   "metadata": {},
   "outputs": [],
   "source": [
    "hurricanes_and_covid.rename(columns = {'date_x':'current_date', \n",
    "                                         'cases':'current_cases',\n",
    "                                         'deaths': 'current_deaths',\n",
    "                                         'cases_per_100000': 'current_cases_per_100000',\n",
    "                                         'date_y':'one_week_ago_date'}, inplace = True)"
   ]
  },
  {
   "cell_type": "code",
   "execution_count": null,
   "metadata": {},
   "outputs": [],
   "source": [
    "hurricanes_and_covid.shape"
   ]
  },
  {
   "cell_type": "markdown",
   "metadata": {},
   "source": [
    "### Tropical Storms/ Hurricane Data"
   ]
  },
  {
   "cell_type": "code",
   "execution_count": null,
   "metadata": {},
   "outputs": [],
   "source": [
    "geo_df_usa = pd.read_csv('../data/geo_usa.csv')\n",
    "geo_df_usa.drop(columns = 'Unnamed: 0', inplace = True)\n",
    "geo_df_usa.head(2)"
   ]
  },
  {
   "cell_type": "markdown",
   "metadata": {},
   "source": [
    "### COVID-19 Data for States with a History of Tropical Storms"
   ]
  },
  {
   "cell_type": "code",
   "execution_count": null,
   "metadata": {},
   "outputs": [],
   "source": [
    "covid_hurricane_states = pd.read_csv('../data/covid_hurricane_states.csv')\n",
    "covid_hurricane_states.head(3)"
   ]
  },
  {
   "cell_type": "markdown",
   "metadata": {},
   "source": [
    "## Read-In Geopandas Data"
   ]
  },
  {
   "cell_type": "markdown",
   "metadata": {},
   "source": [
    "### USA - States"
   ]
  },
  {
   "cell_type": "code",
   "execution_count": null,
   "metadata": {},
   "outputs": [],
   "source": [
    "usa_states = gpd.read_file('../maps/states_21basic/states.shp')\n",
    "usa_states.head(1)"
   ]
  },
  {
   "cell_type": "markdown",
   "metadata": {},
   "source": [
    "### USA - Counties"
   ]
  },
  {
   "cell_type": "code",
   "execution_count": null,
   "metadata": {},
   "outputs": [],
   "source": [
    "usa_counties = gpd.read_file('../maps/cb_2018_us_county_20m/cb_2018_us_county_20m.shp')\n",
    "usa_counties.head(1)"
   ]
  },
  {
   "cell_type": "markdown",
   "metadata": {},
   "source": [
    "## Data Cleaning"
   ]
  },
  {
   "cell_type": "markdown",
   "metadata": {},
   "source": [
    "### Aggregate Data"
   ]
  },
  {
   "cell_type": "code",
   "execution_count": null,
   "metadata": {},
   "outputs": [],
   "source": [
    "hurricanes_and_covid.isna().sum()"
   ]
  },
  {
   "cell_type": "markdown",
   "metadata": {},
   "source": [
    "The null values are missing COVID-19 data so will be dropped."
   ]
  },
  {
   "cell_type": "code",
   "execution_count": null,
   "metadata": {},
   "outputs": [],
   "source": [
    "hurricanes_and_covid.dropna(inplace = True)"
   ]
  },
  {
   "cell_type": "markdown",
   "metadata": {},
   "source": [
    "### COVID-19 for States with History of Tropical Storms"
   ]
  },
  {
   "cell_type": "code",
   "execution_count": null,
   "metadata": {},
   "outputs": [],
   "source": [
    "covid_hurricane_states.isna().sum()"
   ]
  },
  {
   "cell_type": "markdown",
   "metadata": {},
   "source": [
    "Many of these cases correspond to \"Unknown\" counties so will be dropped."
   ]
  },
  {
   "cell_type": "code",
   "execution_count": null,
   "metadata": {},
   "outputs": [],
   "source": [
    "covid_hurricane_states.dropna(inplace = True)"
   ]
  },
  {
   "cell_type": "markdown",
   "metadata": {},
   "source": [
    "### Historical Data for North Atlantic Tropical Storms/ Hurricanes"
   ]
  },
  {
   "cell_type": "code",
   "execution_count": null,
   "metadata": {},
   "outputs": [],
   "source": [
    "geo_df_usa.isna().sum()"
   ]
  },
  {
   "cell_type": "markdown",
   "metadata": {},
   "source": [
    "Because we will only be using this data for plotting, we will be able to ignore missing values."
   ]
  },
  {
   "cell_type": "markdown",
   "metadata": {},
   "source": [
    "## Feature Engineering"
   ]
  },
  {
   "cell_type": "markdown",
   "metadata": {},
   "source": [
    "### Change in Deaths Ratio"
   ]
  },
  {
   "cell_type": "code",
   "execution_count": null,
   "metadata": {},
   "outputs": [],
   "source": [
    "hurricanes_and_covid['change_in_deaths_ratio'] = ((hurricanes_and_covid['current_deaths'] - hurricanes_and_covid['previous_deaths']) / hurricanes_and_covid['2019_population']) * 100_000"
   ]
  },
  {
   "cell_type": "code",
   "execution_count": null,
   "metadata": {},
   "outputs": [],
   "source": [
    "hurricanes_and_covid.head(2)"
   ]
  },
  {
   "cell_type": "markdown",
   "metadata": {},
   "source": [
    "### Tropical Storm Composite Score"
   ]
  },
  {
   "cell_type": "markdown",
   "metadata": {},
   "source": [
    "In addition to the aggregate storm feature and COVID-19 features that we have already engineered, we also wanted to engineer a composite feature to capture the overall historical risk of the hurricanes. Because Category 3, Category 4, and Category 5 hurricanes are the most destructive, we also wanted these storms to carry a higher weight in our composite score."
   ]
  },
  {
   "cell_type": "code",
   "execution_count": null,
   "metadata": {},
   "outputs": [],
   "source": [
    "hurricanes_and_covid['storm_composite'] = hurricanes_and_covid['cat_1_count'] + hurricanes_and_covid['cat_2_count'] + (hurricanes_and_covid['cat_3_count'] ** 2) + (hurricanes_and_covid['cat_4_count'] ** 2) + (hurricanes_and_covid['cat_5_count'] ** 2) + hurricanes_and_covid['tropical_storm_count'] + hurricanes_and_covid['tropical_depression_count']\n",
    "hurricanes_and_covid['storm_composite'].describe()"
   ]
  },
  {
   "cell_type": "markdown",
   "metadata": {},
   "source": [
    "We decided to take the sum of the storms, but to give extra weight to Category 3, Category 4, and Category 5 storms, we squared them.\n",
    "\n"
   ]
  },
  {
   "cell_type": "markdown",
   "metadata": {},
   "source": [
    "## Exploratory Data Analysis"
   ]
  },
  {
   "cell_type": "markdown",
   "metadata": {},
   "source": [
    "### Visualize Tropical Storms That Have Made Landfall in the USA"
   ]
  },
  {
   "cell_type": "code",
   "execution_count": null,
   "metadata": {},
   "outputs": [],
   "source": [
    "plt.figure(figsize= (15,10))\n",
    "sns.scatterplot(x = 'longitude', y = 'latitude', hue = 'usa_status', data = geo_df_usa, palette = 'Blues_r', legend = 'full')\n",
    "plt.legend(loc='center left', bbox_to_anchor=(1.0, 0.5))\n",
    "plt.title('Tropical Storms in the North Atlantic That Made Landfall in the United States (1851-2020)', fontdict = {'fontsize':18}, pad = 8)\n",
    "plt.xlabel('Longitude', fontdict = {'fontsize':15}, labelpad = 8 )\n",
    "plt.ylabel('Latitude', fontdict = {'fontsize':15}, labelpad = 8);"
   ]
  },
  {
   "cell_type": "markdown",
   "metadata": {},
   "source": [
    "From the above plot of coordinates of storms, it is possible to see the outline of the United States. As indicated by the darker colors in these states, many stronger storms hit Florida, Louisiana, and Texas."
   ]
  },
  {
   "cell_type": "markdown",
   "metadata": {},
   "source": [
    "### Which states in the USA have experienced the most hurricanes?"
   ]
  },
  {
   "cell_type": "code",
   "execution_count": null,
   "metadata": {},
   "outputs": [],
   "source": [
    "plt.figure(figsize = (8, 5))\n",
    "hurricanes_and_covid.groupby('state')['hurricane_count'].agg('sum').sort_values(ascending=False).head().plot(kind='bar', title='Top 5 Hurricane States')\n",
    "plt.title('Top 5 Hurricane States', fontdict = {'fontsize':15})\n",
    "plt.xlabel('States', fontsize=13)\n",
    "plt.ylabel('Total Count', fontsize=13);"
   ]
  },
  {
   "cell_type": "markdown",
   "metadata": {},
   "source": [
    "This graph represents the top five states who have experienced the most hurricanes between 1851 and 2020."
   ]
  },
  {
   "cell_type": "markdown",
   "metadata": {},
   "source": [
    "### Which counties in the USA have experienced the most hurricanes?"
   ]
  },
  {
   "cell_type": "code",
   "execution_count": null,
   "metadata": {},
   "outputs": [],
   "source": [
    "plt.figure(figsize = (8, 5))\n",
    "hurricanes_and_covid.groupby(['state', 'county'])['hurricane_count'].agg('sum').sort_values(ascending=False).head().plot(kind='bar')\n",
    "plt.title('Top 5 Hurricane Counties', fontdict = {'fontsize':15})\n",
    "plt.xlabel('County', fontsize=13)\n",
    "plt.ylabel('Number of Hurricanes', fontsize=13);"
   ]
  },
  {
   "cell_type": "markdown",
   "metadata": {},
   "source": [
    "This graph represents the top five counties who have experienced the most hurricanes between 1851 and 2020."
   ]
  },
  {
   "cell_type": "markdown",
   "metadata": {},
   "source": [
    "### Which states historically impacted by tropical storms currently have the highest number of COVID-19 cases?"
   ]
  },
  {
   "cell_type": "code",
   "execution_count": null,
   "metadata": {},
   "outputs": [],
   "source": [
    "plt.figure(figsize = (8, 5))\n",
    "hurricanes_and_covid.groupby('state')['current_cases'].agg('sum').sort_values(ascending=False).head().plot(kind='bar')\n",
    "plt.title('Top 5 COVID-19 States', fontdict = {'fontsize':15}, pad = 8)\n",
    "plt.xlabel('States', fontsize=13, labelpad = 8)\n",
    "plt.ylabel('Total Count', fontsize=13, labelpad = 8);"
   ]
  },
  {
   "cell_type": "markdown",
   "metadata": {},
   "source": [
    "This graph represents the top five states who have the most COVID-19 currently."
   ]
  },
  {
   "cell_type": "markdown",
   "metadata": {},
   "source": [
    "### Which counties in the US currently have the most COVID-19 case?"
   ]
  },
  {
   "cell_type": "code",
   "execution_count": null,
   "metadata": {},
   "outputs": [],
   "source": [
    "plt.figure(figsize = (8, 5))\n",
    "hurricanes_and_covid.groupby(['state', 'county'])['current_cases'].agg('sum').sort_values(ascending=False).head().plot(kind='bar')\n",
    "plt.title('Top 5 COVID-19 Counties', fontdict = {'fontsize':15}, pad = 8)\n",
    "plt.xlabel('County', fontsize=13)\n",
    "plt.ylabel('Total Count', fontsize=13);"
   ]
  },
  {
   "cell_type": "markdown",
   "metadata": {},
   "source": [
    "This graph represents the states with the highest raw count of COVID-19 cases."
   ]
  },
  {
   "cell_type": "markdown",
   "metadata": {},
   "source": [
    "### How does the change in cases per 100,000 people compare by county?"
   ]
  },
  {
   "cell_type": "markdown",
   "metadata": {},
   "source": [
    "#### Set - Up Plotting DF"
   ]
  },
  {
   "cell_type": "code",
   "execution_count": null,
   "metadata": {},
   "outputs": [],
   "source": [
    "usa_counties['total_fip'] = usa_counties['STATEFP'].astype(str) + usa_counties['COUNTYFP'].astype(str)\n",
    "usa_fips = pd.merge(left = usa_counties, right = usa_states, how = 'left', left_on = 'STATEFP', right_on = 'STATE_FIPS')\n",
    "usa_fips = usa_fips[['STATE_NAME', 'STATEFP', 'geometry_y', 'NAME', 'COUNTYFP', 'geometry_x',]].copy()\n",
    "usa_fips.dropna(inplace = True) # Values correspond to Puerto Rico"
   ]
  },
  {
   "cell_type": "code",
   "execution_count": null,
   "metadata": {},
   "outputs": [],
   "source": [
    "plotting_df = pd.merge(left = hurricanes_and_covid, right = usa_fips, left_on = ['state', 'county'], right_on = ['STATE_NAME', 'NAME'])\n",
    "\n",
    "plotting_df_abbrev = plotting_df[['state', 'county', 'geometry_x', 'change_in_case_ratio', 'STATEFP','COUNTYFP', 'storm_composite']]\n",
    "\n",
    "plotting_df_abbrev['total_fips'] = plotting_df_abbrev['STATEFP'].astype(str) + plotting_df_abbrev['COUNTYFP'].astype(str)"
   ]
  },
  {
   "cell_type": "markdown",
   "metadata": {},
   "source": [
    "#### Plot One-Week Change in Cases per 100,000 People"
   ]
  },
  {
   "cell_type": "code",
   "execution_count": null,
   "metadata": {},
   "outputs": [],
   "source": [
    "colorscale = [\"#f7fbff\",\"#ebf3fb\",\"#deebf7\",\"#d2e3f3\",\"#c6dbef\",\"#b3d2e9\",\"#9ecae1\",\n",
    "                  \"#85bcdb\",\"#6baed6\",\"#57a0ce\",\"#4292c6\",\"#3082be\",\"#2171b5\",\"#1361a9\",\n",
    "                  \"#08519c\",\"#0b4083\",\"#08306b\"]\n",
    "\n",
    "endpts = list(np.linspace(0, 500, len(colorscale) - 2))\n",
    "fips = plotting_df_abbrev['total_fips'].tolist()\n",
    "values = plotting_df_abbrev['change_in_case_ratio'].tolist()\n",
    "\n",
    "fig = ff.create_choropleth(\n",
    "    fips=fips, values=values,\n",
    "    binning_endpoints=endpts,\n",
    "    colorscale=colorscale,\n",
    "    show_state_data=True,\n",
    "    show_hover=True, centroid_marker={'opacity': 0},\n",
    "    asp=2.9, title='Weekly Change in COVID-19 Cases per 100,000 People (08/04/20 - 08/11/20)',\n",
    "    legend_title='Cases per 100,000 People',\n",
    "    round_legend_values=True\n",
    ")\n",
    "\n",
    "fig.layout.template = None\n",
    "fig.show()"
   ]
  },
  {
   "cell_type": "markdown",
   "metadata": {},
   "source": [
    "### How does our composite score map to counties?"
   ]
  },
  {
   "cell_type": "code",
   "execution_count": null,
   "metadata": {},
   "outputs": [],
   "source": [
    "# Code adapted from Plotly \n",
    "\n",
    "colorscale = [\"#f7fbff\",\"#ebf3fb\",\"#deebf7\",\"#d2e3f3\",\"#c6dbef\",\"#b3d2e9\",\"#9ecae1\",\n",
    "              \"#85bcdb\",\"#6baed6\",\"#57a0ce\",\"#4292c6\",\"#3082be\",\"#2171b5\",\"#1361a9\",\n",
    "              \"#08519c\",\"#0b4083\",\"#08306b\"]\n",
    "\n",
    "endpts = list(np.linspace(0, 50, len(colorscale) - 5))\n",
    "fips = plotting_df_abbrev['total_fips'].tolist()\n",
    "values = plotting_df_abbrev['storm_composite'].tolist()\n",
    "\n",
    "fig = ff.create_choropleth(\n",
    "    fips=fips, values=values,\n",
    "    binning_endpoints=endpts,\n",
    "    colorscale=colorscale,\n",
    "    show_state_data=True,\n",
    "    show_hover=True, centroid_marker={'opacity': 0},\n",
    "    asp=2.9, title='Tropical Storm Composite Score by County',\n",
    "    legend_title='Composite Score',\n",
    "    round_legend_values=True)\n",
    "\n",
    "fig.layout.template = None\n",
    "fig.show()"
   ]
  },
  {
   "cell_type": "markdown",
   "metadata": {},
   "source": [
    "Based on our previous explorations, we expect counties in Florida, Texas, and Louisiana to be hardest hit. We do see the darkest shades of blue (highest composite scores) in these counties."
   ]
  },
  {
   "cell_type": "markdown",
   "metadata": {},
   "source": [
    "### Examine Discriptive Statistics of Data"
   ]
  },
  {
   "cell_type": "code",
   "execution_count": null,
   "metadata": {},
   "outputs": [],
   "source": [
    "hurricanes_and_covid.describe()"
   ]
  },
  {
   "cell_type": "markdown",
   "metadata": {},
   "source": [
    "We do not see a wide range of values for many of the columns in our data frame. Approximately 75% of counties have had 0 hurricanes. The 75th percentile for tropical storms is 2 tropical storms. Additionally, 75% of counties have a change in cases per 100,000 people that is 194.78 or lower. The lack of spread in the data could make clustering difficult, but it is possible that clusters exist at different combinations of values."
   ]
  },
  {
   "cell_type": "markdown",
   "metadata": {},
   "source": [
    "## Model Preparation"
   ]
  },
  {
   "cell_type": "markdown",
   "metadata": {},
   "source": [
    "When we initially set out to model, we hoped to use individual storm features along with covid features. However, there were ~12 storm features to choose from and only two features that captured standardized change in COVID-19. Therefore, preliminary models tended to cluster along hurricane data with little variation in COVID-19. In order to achieve a balance of clusters, when creating models to identify counties at risk for hurricanes and COVID-19, we found that including the composite score and change in cases per 100,000 resulted in the most interpretable clusters. Therefore, we will use these two features in our model."
   ]
  },
  {
   "cell_type": "markdown",
   "metadata": {},
   "source": [
    "#### Select Features"
   ]
  },
  {
   "cell_type": "code",
   "execution_count": null,
   "metadata": {},
   "outputs": [],
   "source": [
    "X = hurricanes_and_covid[['storm_composite', 'change_in_case_ratio']].dropna()"
   ]
  },
  {
   "cell_type": "markdown",
   "metadata": {},
   "source": [
    "#### Scale Features"
   ]
  },
  {
   "cell_type": "code",
   "execution_count": null,
   "metadata": {},
   "outputs": [],
   "source": [
    "ss = StandardScaler()\n",
    "X_scaled = ss.fit_transform(X)"
   ]
  },
  {
   "cell_type": "markdown",
   "metadata": {},
   "source": [
    "## Modeling\n"
   ]
  },
  {
   "cell_type": "markdown",
   "metadata": {},
   "source": [
    "### Functions"
   ]
  },
  {
   "cell_type": "code",
   "execution_count": null,
   "metadata": {},
   "outputs": [],
   "source": [
    "def km_grid_search(max_clusters, data):\n",
    "    \n",
    "    k_list = range(2,max_clusters)\n",
    "    \n",
    "    for k in k_list:\n",
    "        km = KMeans(n_clusters = k, random_state = 42)\n",
    "        km.fit(data)\n",
    "        print(f'For k = {k}, the silhouette score is:')\n",
    "        print(silhouette_score(X_scaled, km.labels_))\n",
    "        print(f'For k = {k}, the inertia score is:')\n",
    "        print(km.inertia_)\n",
    "        print()"
   ]
  },
  {
   "cell_type": "code",
   "execution_count": null,
   "metadata": {},
   "outputs": [],
   "source": [
    "def dbs_grid_search(eps_list, min_samples_list, X):\n",
    "    for epsilon in eps_list:\n",
    "        for n in min_samples_list:\n",
    "            dbs = DBSCAN(eps=epsilon, min_samples=n)\n",
    "            dbs.fit(X)\n",
    "            print(f'For eps = {epsilon} and min_samples = {n}, the silhouette score is:')\n",
    "            print(silhouette_score(X, dbs.labels_))\n",
    "            print()"
   ]
  },
  {
   "cell_type": "code",
   "execution_count": null,
   "metadata": {},
   "outputs": [],
   "source": [
    "def describe_cluster(cluster_num, feature_names, df = hurricanes_and_covid, cluster_col = 'cluster'):\n",
    "    for col in feature_names:\n",
    "        print(f'The mean for {col} is {df[df[cluster_col] == cluster_num][col].mean()}.')"
   ]
  },
  {
   "cell_type": "markdown",
   "metadata": {},
   "source": [
    "### Initial Plot of Data"
   ]
  },
  {
   "cell_type": "code",
   "execution_count": null,
   "metadata": {},
   "outputs": [],
   "source": [
    "plt.figure(figsize = (8,5))\n",
    "sns.scatterplot(x = 'storm_composite', y = 'change_in_case_ratio', data = hurricanes_and_covid)\n",
    "plt.title('Change in Cases per 100,000 by Storm Composite Score', fontdict = {'fontsize':14}, pad = 8)\n",
    "plt.xlabel('Storm Composite Score')\n",
    "plt.ylabel('Change in Cases per 100,000 People')"
   ]
  },
  {
   "cell_type": "markdown",
   "metadata": {},
   "source": [
    "### K-Means Clustering"
   ]
  },
  {
   "cell_type": "markdown",
   "metadata": {},
   "source": [
    "#### Grid Search"
   ]
  },
  {
   "cell_type": "code",
   "execution_count": null,
   "metadata": {},
   "outputs": [],
   "source": [
    "km_grid_search(15, X_scaled)"
   ]
  },
  {
   "cell_type": "markdown",
   "metadata": {},
   "source": [
    "Based the balance of a moderate silhouette score and an okay inertia, we have decided to fit a model with 5 clusters."
   ]
  },
  {
   "cell_type": "markdown",
   "metadata": {},
   "source": [
    "#### Model"
   ]
  },
  {
   "cell_type": "code",
   "execution_count": null,
   "metadata": {},
   "outputs": [],
   "source": [
    "km = KMeans(n_clusters = 5, random_state = RANDOM_STATE)\n",
    "km.fit(X_scaled)\n",
    "\n",
    "hurricanes_and_covid['km_cluster'] = km.labels_"
   ]
  },
  {
   "cell_type": "markdown",
   "metadata": {},
   "source": [
    "#### Confirm Matching Silhouette Score to Grid Search"
   ]
  },
  {
   "cell_type": "code",
   "execution_count": null,
   "metadata": {},
   "outputs": [],
   "source": [
    "silhouette_score(X_scaled, km.labels_)"
   ]
  },
  {
   "cell_type": "markdown",
   "metadata": {},
   "source": [
    "The silhouette score is 0.526. Given that a score of 1 indicates that a point is a perfect match to its own cluster and distanced from other clusters, this is a moderate score."
   ]
  },
  {
   "cell_type": "markdown",
   "metadata": {},
   "source": [
    "#### Check Cluster Value Counts"
   ]
  },
  {
   "cell_type": "code",
   "execution_count": null,
   "metadata": {},
   "outputs": [],
   "source": [
    "hurricanes_and_covid['km_cluster'].value_counts()"
   ]
  },
  {
   "cell_type": "markdown",
   "metadata": {},
   "source": [
    "From the value counts, we can see that our data was clustered into uneven clusters. However, in comparison to other models that were built, this distribution of points across clusters is okay."
   ]
  },
  {
   "cell_type": "markdown",
   "metadata": {},
   "source": [
    "#### Plot Clusters"
   ]
  },
  {
   "cell_type": "code",
   "execution_count": null,
   "metadata": {},
   "outputs": [],
   "source": [
    "plt.figure(figsize = (8,5))\n",
    "sns.scatterplot(x = 'storm_composite', y = 'change_in_case_ratio', data = hurricanes_and_covid, hue = 'km_cluster', legend = 'full', palette = 'coolwarm')\n",
    "plt.title('Clusters Resulting from KMeans Algorithm', fontdict = {'fontsize':14}, pad = 8)\n",
    "plt.xlabel('Storm Composite Score')\n",
    "plt.ylabel('Change in Cases per 100,000 People');"
   ]
  },
  {
   "cell_type": "markdown",
   "metadata": {},
   "source": [
    "As shown in the plot above, the KMeans Algorithm identified 5 clusters:\n",
    "* **Cluster 0:** Moderate Covid, Low Storm Composite\n",
    "* **Cluster 1:** Moderate Covid, Low-Moderate Storm Composite\n",
    "* **Cluster 2:** High Covid, Low-Moderate Storm Composite\n",
    "* **Cluster 3:** Low Covid, Low Storm Composite\n",
    "* **Cluster 4:** Low-Moderate Covid, High Storm Composite"
   ]
  },
  {
   "cell_type": "markdown",
   "metadata": {},
   "source": [
    "### DBSCAN"
   ]
  },
  {
   "cell_type": "markdown",
   "metadata": {},
   "source": [
    "Because our data does not show really good separation, we are also interested in building a DBSCAN to see how it will separate the data."
   ]
  },
  {
   "cell_type": "markdown",
   "metadata": {},
   "source": [
    "#### Grid Search"
   ]
  },
  {
   "cell_type": "code",
   "execution_count": null,
   "metadata": {},
   "outputs": [],
   "source": [
    "eps_list = [0.5, 0.75, 1, 1.5, 2]\n",
    "min_samples = list(range(2,12))\n",
    "\n",
    "dbs_grid_search(eps_list, min_samples, X_scaled)"
   ]
  },
  {
   "cell_type": "markdown",
   "metadata": {},
   "source": [
    "Based on the results of the grid search, we will build a model with `eps` = 2 and `min_samples` = 5. Even though it does not have the highest silhouette score, given the plot of our original data, it might be able to identify some of the points that are spread out from the largest conglomerate of points."
   ]
  },
  {
   "cell_type": "markdown",
   "metadata": {},
   "source": [
    "#### Model"
   ]
  },
  {
   "cell_type": "code",
   "execution_count": null,
   "metadata": {},
   "outputs": [],
   "source": [
    "dbs = DBSCAN(eps = 2, min_samples = 5)\n",
    "dbs.fit(X_scaled)\n",
    "\n",
    "hurricanes_and_covid['dbs_clusters'] = dbs.labels_"
   ]
  },
  {
   "cell_type": "markdown",
   "metadata": {},
   "source": [
    "#### Check Silhouette Score"
   ]
  },
  {
   "cell_type": "code",
   "execution_count": null,
   "metadata": {},
   "outputs": [],
   "source": [
    "silhouette_score(X_scaled, dbs.labels_)"
   ]
  },
  {
   "cell_type": "markdown",
   "metadata": {},
   "source": [
    "#### Check Cluster Value Counts"
   ]
  },
  {
   "cell_type": "code",
   "execution_count": null,
   "metadata": {},
   "outputs": [],
   "source": [
    "hurricanes_and_covid['dbs_clusters'].value_counts()"
   ]
  },
  {
   "cell_type": "markdown",
   "metadata": {},
   "source": [
    "From these value counts, we can see that the model was not really able to find any patterns in the data. "
   ]
  },
  {
   "cell_type": "markdown",
   "metadata": {},
   "source": [
    "#### Plot Clusters"
   ]
  },
  {
   "cell_type": "code",
   "execution_count": null,
   "metadata": {},
   "outputs": [],
   "source": [
    "sns.scatterplot(x = 'storm_composite', y = 'change_in_case_ratio', data = hurricanes_and_covid, hue = 'dbs_clusters', legend = 'full', palette = 'coolwarm')\n",
    "plt.title('Clusters Resulting from DBSCAN Algorithm', fontdict = {'fontsize':14}, pad = 8)\n",
    "plt.xlabel('Storm Composite Score')\n",
    "plt.ylabel('Change in Cases per 100,000 People');"
   ]
  },
  {
   "cell_type": "markdown",
   "metadata": {},
   "source": [
    "From the above plot, we can see that the majority of our data points were clustered as low-medium Covid and low-medium storm composite. The highest levels of Storm Composite are being filtered out as noise."
   ]
  },
  {
   "cell_type": "markdown",
   "metadata": {},
   "source": [
    "## Model Selection"
   ]
  },
  {
   "cell_type": "markdown",
   "metadata": {},
   "source": [
    "|Model|Number of Clusters|Silhouette Score|\n",
    "|---|---|---|\n",
    "|KMeans|5|0.526|\n",
    "|DBSCAN|2|0.861|"
   ]
  },
  {
   "cell_type": "markdown",
   "metadata": {},
   "source": [
    "Overall, we were surprised by the clusters that emerged from our models. When we first began the project, we were optimistic that a cluster that was high risk for COVID-19 and high risk for tropical storms would emerge. However, after exploring our data, we realized that severe hurricanes are not as common as we thought, and that the variation in COVID-19 cases was also less than expected.\n",
    "\n",
    "However, given our options for models, due to it's ability to pick up on slight differences in current COVID-19 cases and historical risk of tropical storms, we will choose to further evaluate the KMeans clusters."
   ]
  },
  {
   "cell_type": "markdown",
   "metadata": {},
   "source": [
    "## Model Evaluation and Interpretation"
   ]
  },
  {
   "cell_type": "markdown",
   "metadata": {},
   "source": [
    "### Evaluation\n",
    "\n",
    "For KMeans Clustering the model can be evaluated for inertia (a measure of error) and th silhouette score (a measure of separation between the clusters).\n",
    "\n",
    "#### Silhouette Score\n",
    "As previously stated, the silhouette score for this model is 0.526."
   ]
  },
  {
   "cell_type": "code",
   "execution_count": null,
   "metadata": {},
   "outputs": [],
   "source": [
    "centroids = pd.DataFrame(ss.inverse_transform(km.cluster_centers_), columns = ['storm_composite', 'change_in_covid'])\n",
    "plt.figure(figsize = (8,5))\n",
    "ax = sns.scatterplot(x = 'storm_composite', y = 'change_in_case_ratio', data = hurricanes_and_covid, hue = 'km_cluster', legend = 'full', palette = 'coolwarm')\n",
    "centroids.plot(kind = 'scatter', x = 'storm_composite', y = 'change_in_covid', marker = '*', s = 200, ax = ax, c = ['midnightblue', 'royalblue', 'grey', 'brown', 'darkred'])\n",
    "plt.title('Clusters Resulting from KMeans Algorithm', fontdict = {'fontsize':14}, pad = 8)\n",
    "plt.xlabel('Storm Composite Score')\n",
    "plt.ylabel('Change in Cases per 100,000 People');"
   ]
  },
  {
   "cell_type": "markdown",
   "metadata": {},
   "source": [
    "When looking at the plot of clusters, it is easy to see why this model does not result in a high silhouette score:\n",
    "* **Cohesion:** For three clusters (0, 3, 1), there appears to be low cohesion, but for two clusters (2 and 4), points are spread out and cohesion is high.\n",
    "* **Separation:** In general, the distance between neighboring clusters is low. "
   ]
  },
  {
   "cell_type": "markdown",
   "metadata": {},
   "source": [
    "#### Inertia"
   ]
  },
  {
   "cell_type": "code",
   "execution_count": null,
   "metadata": {},
   "outputs": [],
   "source": [
    "inertia = km.inertia_\n",
    "inertia"
   ]
  },
  {
   "cell_type": "markdown",
   "metadata": {},
   "source": [
    "The inertia (or error metric) for this model is 600.5. In comparison to other KMeans models that were built, this score is somewhere in the middle. Because we do not have a target value, it is hard to know what this actually means for our model."
   ]
  },
  {
   "cell_type": "markdown",
   "metadata": {},
   "source": [
    "### Interpretation\n",
    "\n",
    "In order to understand if our clusters are meaningful, we can look at the mean values for each of the features in our model. As shown in the table below:\n",
    "\n",
    "Cluster|Storm Composite|Change in COVID-19 cases per 100,000  \n",
    "-|-|-\n",
    "0|3.07|317.9\n",
    "1|11.7|189.6\n",
    "2|10.5|1716.9\n",
    "3|1.5|78.5\n",
    "4|43.7|201.9\n",
    "\n",
    "***NOTE:*** All reported risks are relative to other clusters. In this sample, even clusters with the lowest COVID-19 means can be considered red zones.\n",
    "\n",
    "* **Cluster 0** has a low risk of tropical storms and a moderate risk of COVID-19. It is important to note that many counties in this cluster would meet the White House's criteria for a red zone (100 new cases/100,000 people).\n",
    "* **Cluster 1** has a moderate risk of tropical storms and a lower risk of COVID-19. Many counties in this cluster likely also meet the criteria for a COVID-19 red zone.\n",
    "* **Cluster 2** has a moderate risk of tropical storms and a high risk of COVID-19.\n",
    "* **Cluster 3** has a low risk of tropical storms and a low risk for COVID-19. It is the only cluster where the average change in COVID-19 per 100,000 people would not be classified as a red zone.\n",
    "* **Cluster 4** has a high risk of tropial storms and a moderate relative risk of COVID-19. The average change in COVID-19 per 100,000 people meets criteria for a red zone."
   ]
  },
  {
   "cell_type": "markdown",
   "metadata": {},
   "source": [
    "The table below shows the mean counts for individual tropical storm types by cluster:"
   ]
  },
  {
   "cell_type": "markdown",
   "metadata": {},
   "source": [
    "Cluster|Tropical Depression| Tropical Storm|Cat 1|Cat 2|Cat3|Cat 4|Cat 5| Change in COVID-19 cases per 100,000 \n",
    "-|-|-|-|-|-|-|-|-\n",
    "0|1.6|1.3|0.1|0.02|0.01|0|0|317.9\n",
    "1|3.9|5.8|1.3|0.4|0.1|0.04|0|189.6\n",
    "2|3.2|5.7|1.1|0.5|0.1|0|0|1716.9\n",
    "3|0.9|0.6|0.05|0.01|0|0|0|78.5\n",
    "4|11.1|15.8|6.7|2.3|2.0|0.6|0|201.9\n",
    "\n",
    "Overall, these values seem to be well-captured by the composite score.\n",
    "\n",
    "A summary of risk by cluster is presented in the table below:\n",
    "\n",
    "Cluster| Storm Risk|COVID-19 Risk|Red-Zone\n",
    "-|-|-|-\n",
    "0|Low|Moderate|Yes\n",
    "1|Moderate|Low|Yes\n",
    "2|Moderate|High|Yes\n",
    "3|Low|Low|No\n",
    "4|High|Moderate|Yes\n",
    "\n",
    "***NOTE:*** Risk is relative to other clusters."
   ]
  },
  {
   "cell_type": "markdown",
   "metadata": {},
   "source": [
    "### Geographical Location of Clusters"
   ]
  },
  {
   "cell_type": "markdown",
   "metadata": {},
   "source": [
    "#### Prepare Data (Add a set of coordinates to counties)"
   ]
  },
  {
   "cell_type": "code",
   "execution_count": null,
   "metadata": {},
   "outputs": [],
   "source": [
    "# Note: A single point for each county was generated using the Google Maps API\n",
    "# Code for this process is not listed in the repo as it will not run without an API key\n",
    "\n",
    "county_coordinates = pd.read_csv('../data/county_coordinates.csv')\n",
    "hurricanes_and_covid = pd.merge(left = hurricanes_and_covid, right = county_coordinates, on = ['state', 'county'])"
   ]
  },
  {
   "cell_type": "code",
   "execution_count": null,
   "metadata": {},
   "outputs": [],
   "source": [
    "hurricanes_and_covid['latitude'] = hurricanes_and_covid['coordinates'].map(lambda x : x.split()[0].replace('(','').replace(',',''))\n",
    "hurricanes_and_covid['latitude'] = hurricanes_and_covid['latitude'].map(lambda x: float(x))\n",
    "\n",
    "hurricanes_and_covid['longitude'] = hurricanes_and_covid['coordinates'].map(lambda x : x.split()[1].replace(')','').replace(',',''))\n",
    "hurricanes_and_covid['longitude'] = hurricanes_and_covid['longitude'].map(lambda x: float(x))"
   ]
  },
  {
   "cell_type": "code",
   "execution_count": null,
   "metadata": {},
   "outputs": [],
   "source": [
    "geo_hc = hurricanes_and_covid[['latitude', 'longitude', 'km_cluster']]"
   ]
  },
  {
   "cell_type": "code",
   "execution_count": null,
   "metadata": {},
   "outputs": [],
   "source": [
    "geo_hc = gpd.GeoDataFrame(geo_hc, geometry = gpd.points_from_xy(geo_hc['longitude'], geo_hc['latitude']))"
   ]
  },
  {
   "cell_type": "markdown",
   "metadata": {},
   "source": [
    "#### Plot Clusters on Map"
   ]
  },
  {
   "cell_type": "code",
   "execution_count": null,
   "metadata": {},
   "outputs": [],
   "source": [
    "# https://towardsdatascience.com/finding-and-visualizing-clusters-of-geospatial-data-698943c18fed\n",
    "\n",
    "fig, ax = plt.subplots(figsize = (16,5))\n",
    "ax.set_aspect('auto')\n",
    "usa_states.plot(ax = ax, color = 'lightgrey', edgecolor = 'darkgrey');\n",
    "plt.figure(figsize = (8, 5))\n",
    "geo_hc.plot(ax = ax, column = 'km_cluster', cmap = 'Blues_r', ec = 'black', linewidth = 0.25, s = 12, legend = True, categorical = True);\n",
    "ax.set_title('Plot of Clusters by Latitude and Longitude', fontdict = {'fontsize':15})\n",
    "ax.set_xlabel('Longitude', fontdict = {'fontsize':14})\n",
    "ax.set_ylabel('Latitude', fontdict = {'fontsize':14})"
   ]
  },
  {
   "cell_type": "code",
   "execution_count": null,
   "metadata": {},
   "outputs": [],
   "source": [
    "plt.figure(figsize = (8, 5))\n",
    "sns.scatterplot(x = 'longitude', y = 'latitude',hue = 'km_cluster', data = hurricanes_and_covid, palette = 'Blues_r', legend = 'full', edgecolor = 'black', linewidth = 0.35)\n",
    "plt.title('Plot of Clusters by Latitude and Longitude')\n",
    "plt.xlabel('Longitude')\n",
    "plt.ylabel('Latitude')\n",
    "plt.legend(loc='center left', bbox_to_anchor=(1.0, 0.5));"
   ]
  },
  {
   "cell_type": "markdown",
   "metadata": {},
   "source": [
    "From this map, we can see that Cluster 4 (Highest Risk of Tropical Storms) is located on the coast of Florida and scattered in Texas and Louisiana. Additionally, Cluster 3, which was clustered to have a low risk of tropical storms is clustered farther north. This is what we would expect based on risk of North Atlantic Hurricanes."
   ]
  },
  {
   "cell_type": "markdown",
   "metadata": {},
   "source": [
    "## Conclusion & Recommendations"
   ]
  },
  {
   "cell_type": "markdown",
   "metadata": {},
   "source": [
    "## References\n",
    "---\n",
    "[County Populations Data](https://www.census.gov/data/tables/time-series/demo/popest/2010s-counties-detail.html)  \n",
    "[COVID-19 Data](https://github.com/nytimes/covid-19-data)  \n",
    "[IBTraACS Data](https://www.ncdc.noaa.gov/ibtracs/index.php?name=introduction)  \n",
    "[U.S. Counties Shape File](https://www.census.gov/geographies/mapping-files/time-series/geo/carto-boundary-file.html)  \n",
    "[What is a COVID-19 red zone? by Fast Company](https://www.fastcompany.com/90529280/what-is-a-covid-19-red-zone-do-you-live-in-one-heres-how-to-find-out)  "
   ]
  },
  {
   "cell_type": "markdown",
   "metadata": {},
   "source": [
    "## Export Final Data Frame to CSV for Use in Command-Line App"
   ]
  },
  {
   "cell_type": "code",
   "execution_count": null,
   "metadata": {},
   "outputs": [],
   "source": [
    "#hurricanes_and_covid.to_csv('../data/final_data_with_clusters.csv', index = False)"
   ]
  },
  {
   "cell_type": "code",
   "execution_count": null,
   "metadata": {},
   "outputs": [],
   "source": []
  }
 ],
 "metadata": {
  "kernelspec": {
   "display_name": "Python 3",
   "language": "python",
   "name": "python3"
  },
  "language_info": {
   "codemirror_mode": {
    "name": "ipython",
    "version": 3
   },
   "file_extension": ".py",
   "mimetype": "text/x-python",
   "name": "python",
   "nbconvert_exporter": "python",
   "pygments_lexer": "ipython3",
   "version": "3.7.6"
  }
 },
 "nbformat": 4,
 "nbformat_minor": 4
}
